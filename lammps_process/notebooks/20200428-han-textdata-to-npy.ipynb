{
 "metadata": {
  "language_info": {
   "codemirror_mode": {
    "name": "ipython",
    "version": 3
   },
   "file_extension": ".py",
   "mimetype": "text/x-python",
   "name": "python",
   "nbconvert_exporter": "python",
   "pygments_lexer": "ipython3",
   "version": "3.7.3-final"
  },
  "orig_nbformat": 2,
  "kernelspec": {
   "name": "python3",
   "display_name": "Python 3.7.3 64-bit ('base': conda)",
   "metadata": {
    "interpreter": {
     "hash": "014bbb060d5dcd6f172b95fb49fd54994da1b47573c78d9746be25b2deaee267"
    }
   }
  }
 },
 "nbformat": 4,
 "nbformat_minor": 2,
 "cells": [
  {
   "cell_type": "code",
   "execution_count": 1,
   "metadata": {},
   "outputs": [
    {
     "output_type": "error",
     "ename": "SystemExit",
     "evalue": "npy file exist, path is /home/ic6413/simulation/lammps_process/data/02_intermediate/test_subfoldername/npy/inwall_force/TimeStep",
     "traceback": [
      "An exception has occurred, use %tb to see the full traceback.\n",
      "\u001b[0;31mSystemExit\u001b[0m\u001b[0;31m:\u001b[0m npy file exist, path is /home/ic6413/simulation/lammps_process/data/02_intermediate/test_subfoldername/npy/inwall_force/TimeStep\n"
     ]
    }
   ],
   "source": [
    "import os\n",
    "import d00_utils.input_text as di\n",
    "import d00_utils.read_log as dr\n",
    "import d00_utils.data as dd\n",
    "import numpy as np\n",
    "lmp_folder_path = di.lmp_folder_path\n",
    "\n",
    "# pickle variable\n",
    "(log_variable_dic_list, n_simu_total, log_variable, folder_path_list_initial_to_last) = dr.dump_variable(lmp_folder_path)\n",
    "\n",
    "folder_name_under_subfolder_of_data = di.folder_name_under_subfolder_of_data(log_variable_dic_list)\n",
    "\n",
    "post_process_folder_path = di.post_process_folder_path(folder_name_under_subfolder_of_data)\n",
    "\n",
    "os.makedirs(post_process_folder_path, exist_ok=True)\n",
    "\n",
    "log_folder_path = os.path.join(post_process_folder_path, di.log_output_folder_name)\n",
    "os.makedirs(log_folder_path, exist_ok=True)\n",
    "logpicklepath = os.path.join(log_folder_path,  di.logpicklefilename)\n",
    "dr.dump_variable_save(lmp_folder_path, logpicklepath, None, log_variable_name = di.logpicklefilename)\n",
    "\n",
    "# npy\n",
    "npy_folder_path = os.path.join(\n",
    "    post_process_folder_path,\n",
    "    'npy',\n",
    ")\n",
    "\n",
    "# check if all fixavetime included\n",
    "d1 = di.map_fixtimeave_value_to_coord_by_id\n",
    "list1 = di.no_coord_fixtimeave\n",
    "outputlist = list(d1.keys()) + list(d1.values()) + list1\n",
    "\n",
    "for key in log_variable['fixavetime'].keys():\n",
    "    if key not in outputlist:\n",
    "        sys.exit(\"some fixavetime not included\")\n",
    "\n",
    "for key in log_variable['fixavetime'].keys():\n",
    "    if key not in di.npy_output_subfolder_name_map_from_id.keys():\n",
    "        sys.exit(\"some fixavetime not included\")\n",
    "\n",
    "# mode scalar\n",
    "for fixtimeave_id_name in di.no_coord_fixtimeave:\n",
    "    output_folder_path = os.path.join(\n",
    "        npy_folder_path,\n",
    "        di.npy_output_subfolder_name_map_from_id[fixtimeave_id_name],\n",
    "    )\n",
    "    text_file_path = os.path.join(\n",
    "        lmp_folder_path,\n",
    "        log_variable['fixavetime'][fixtimeave_id_name]['file'],\n",
    "    )\n",
    "    dd.save_non_coord_to_npy_scalar(\n",
    "        text_file_path, output_folder_path,\n",
    "        log_variable, fixtimeave_id_name,\n",
    "        n_row_header=2,\n",
    "    )\n",
    "\n",
    "# len_in_each_dim_coord23\n",
    "coord_2_3_path = os.path.join(\n",
    "    lmp_folder_path,\n",
    "    log_variable['fixavetime'][di.coord_2_3_fixtimeave_id_name]['file'],\n",
    ")\n",
    "len_in_each_dim_coord23 = dd.len_in_each_dim_coord23(coord_2_3_path, n_row_header=3, n_column_of_step=1, n_column_of_chunk_number=2)\n",
    "# coord chunk\n",
    "for fixtimeave_id_name in di.coord_chunk_id_list:\n",
    "    output_folder_path = os.path.join(\n",
    "        npy_folder_path,\n",
    "        di.npy_output_subfolder_name_map_from_id[fixtimeave_id_name],\n",
    "    )\n",
    "    text_file_path = os.path.join(\n",
    "        lmp_folder_path,\n",
    "        log_variable['fixavetime'][fixtimeave_id_name]['file'],\n",
    "    )\n",
    "    dd.save_coord_to_npy(\n",
    "        text_file_path, output_folder_path, di.output_shape_map_from_id[fixtimeave_id_name], len_in_each_dim_coord23,\n",
    "        log_variable, fixtimeave_id_name,\n",
    "        n_row_header=3, n_column_of_step=1, n_column_of_chunk_number=2,\n",
    "    )\n",
    "\n",
    "# chunk data\n",
    "# The number of row of header\n",
    "# count from 1\n",
    "for fixtimeave_id_name in di.map_fixtimeave_value_to_coord_by_id.keys():\n",
    "    output_folder_path = os.path.join(\n",
    "        npy_folder_path,\n",
    "        di.npy_output_subfolder_name_map_from_id[fixtimeave_id_name],\n",
    "    )\n",
    "    text_file_path = os.path.join(\n",
    "        lmp_folder_path,\n",
    "        log_variable['fixavetime'][fixtimeave_id_name]['file'],\n",
    "    )\n",
    "    dd.save_non_coord_to_npy(\n",
    "        text_file_path, output_folder_path, di.output_shape_map_from_id[fixtimeave_id_name], len_in_each_dim_coord23,\n",
    "        log_variable, fixtimeave_id_name,\n",
    "        n_row_header=3, n_column_of_step=1, n_column_of_chunk_number=2,\n",
    "    )"
   ]
  },
  {
   "cell_type": "code",
   "execution_count": 19,
   "metadata": {},
   "outputs": [
    {
     "output_type": "error",
     "ename": "TypeError",
     "evalue": "expected str, bytes or os.PathLike object, not function",
     "traceback": [
      "\u001b[0;31m---------------------------------------------------------------------------\u001b[0m",
      "\u001b[0;31mTypeError\u001b[0m                                 Traceback (most recent call last)",
      "\u001b[0;32m<ipython-input-19-f65ee746818e>\u001b[0m in \u001b[0;36m<module>\u001b[0;34m\u001b[0m\n\u001b[1;32m      3\u001b[0m     \u001b[0;32mfor\u001b[0m \u001b[0mfixtimeave_id_name\u001b[0m \u001b[0;32min\u001b[0m \u001b[0mdi\u001b[0m\u001b[0;34m.\u001b[0m\u001b[0mno_coord_fixtimeave\u001b[0m\u001b[0;34m:\u001b[0m\u001b[0;34m\u001b[0m\u001b[0;34m\u001b[0m\u001b[0m\n\u001b[1;32m      4\u001b[0m         \u001b[0;32mif\u001b[0m \u001b[0mfixtimeave_id_name\u001b[0m \u001b[0;32min\u001b[0m \u001b[0mlog_variable_dic_list\u001b[0m\u001b[0;34m[\u001b[0m\u001b[0mn\u001b[0m\u001b[0;34m]\u001b[0m\u001b[0;34m[\u001b[0m\u001b[0;34m'fixavetime'\u001b[0m\u001b[0;34m]\u001b[0m\u001b[0;34m.\u001b[0m\u001b[0mkeys\u001b[0m\u001b[0;34m(\u001b[0m\u001b[0;34m)\u001b[0m\u001b[0;34m:\u001b[0m\u001b[0;34m\u001b[0m\u001b[0;34m\u001b[0m\u001b[0m\n\u001b[0;32m----> 5\u001b[0;31m             \u001b[0moutput_folder_path\u001b[0m \u001b[0;34m=\u001b[0m \u001b[0mdi\u001b[0m\u001b[0;34m.\u001b[0m\u001b[0mfixtimeave_npy_output_folder_path\u001b[0m\u001b[0;34m(\u001b[0m\u001b[0mfixtimeave_id_name\u001b[0m\u001b[0;34m,\u001b[0m \u001b[0mn\u001b[0m\u001b[0;34m)\u001b[0m\u001b[0;34m\u001b[0m\u001b[0;34m\u001b[0m\u001b[0m\n\u001b[0m\u001b[1;32m      6\u001b[0m             \u001b[0mtext_file_path\u001b[0m \u001b[0;34m=\u001b[0m \u001b[0mdi\u001b[0m\u001b[0;34m.\u001b[0m\u001b[0mfixtimeave_text_file_path\u001b[0m\u001b[0;34m(\u001b[0m\u001b[0mfixtimeave_id_name\u001b[0m\u001b[0;34m,\u001b[0m \u001b[0mfolder_path_list_initial_to_last\u001b[0m\u001b[0;34m,\u001b[0m \u001b[0mlog_variable_dic_list\u001b[0m\u001b[0;34m,\u001b[0m \u001b[0mn\u001b[0m\u001b[0;34m)\u001b[0m\u001b[0;34m\u001b[0m\u001b[0;34m\u001b[0m\u001b[0m\n\u001b[1;32m      7\u001b[0m             \u001b[0;32mif\u001b[0m \u001b[0mos\u001b[0m\u001b[0;34m.\u001b[0m\u001b[0mpath\u001b[0m\u001b[0;34m.\u001b[0m\u001b[0mexists\u001b[0m\u001b[0;34m(\u001b[0m\u001b[0mtext_file_path\u001b[0m\u001b[0;34m)\u001b[0m\u001b[0;34m:\u001b[0m\u001b[0;34m\u001b[0m\u001b[0;34m\u001b[0m\u001b[0m\n",
      "\u001b[0;32m~/simulation/lammps_process/python/d00_utils/input_text.py\u001b[0m in \u001b[0;36mfixtimeave_npy_output_folder_path\u001b[0;34m(fixtimeave_id_name, n)\u001b[0m\n\u001b[1;32m    104\u001b[0m \u001b[0;32mdef\u001b[0m \u001b[0mfixtimeave_npy_output_folder_path\u001b[0m\u001b[0;34m(\u001b[0m\u001b[0mn\u001b[0m\u001b[0;34m,\u001b[0m \u001b[0mfixtimeave_id_name\u001b[0m\u001b[0;34m,\u001b[0m \u001b[0mlog_variable_dic_list\u001b[0m\u001b[0;34m)\u001b[0m\u001b[0;34m:\u001b[0m\u001b[0;34m\u001b[0m\u001b[0;34m\u001b[0m\u001b[0m\n\u001b[1;32m    105\u001b[0m     folder_path = os.path.join(\n\u001b[0;32m--> 106\u001b[0;31m         \u001b[0mnpy_folder_path\u001b[0m\u001b[0;34m(\u001b[0m\u001b[0mn\u001b[0m\u001b[0;34m,\u001b[0m \u001b[0mlog_variable_dic_list\u001b[0m\u001b[0;34m)\u001b[0m\u001b[0;34m,\u001b[0m\u001b[0;34m\u001b[0m\u001b[0;34m\u001b[0m\u001b[0m\n\u001b[0m\u001b[1;32m    107\u001b[0m         \u001b[0mnpy_output_subfolder_name_map_from_id\u001b[0m\u001b[0;34m[\u001b[0m\u001b[0mfixtimeave_id_name\u001b[0m\u001b[0;34m]\u001b[0m\u001b[0;34m,\u001b[0m\u001b[0;34m\u001b[0m\u001b[0;34m\u001b[0m\u001b[0m\n\u001b[1;32m    108\u001b[0m     )\n",
      "\u001b[0;32m~/simulation/lammps_process/python/d00_utils/input_text.py\u001b[0m in \u001b[0;36mnpy_folder_path\u001b[0;34m(n)\u001b[0m\n\u001b[1;32m     98\u001b[0m         \u001b[0mpost_process_folder_path\u001b[0m\u001b[0;34m(\u001b[0m\u001b[0mfolder_name_under_subfolder_of_data\u001b[0m\u001b[0;34m(\u001b[0m\u001b[0mlog_variable_dic_list\u001b[0m\u001b[0;34m)\u001b[0m\u001b[0;34m)\u001b[0m\u001b[0;34m,\u001b[0m\u001b[0;34m\u001b[0m\u001b[0;34m\u001b[0m\u001b[0m\n\u001b[1;32m     99\u001b[0m         \u001b[0;34m'npy'\u001b[0m\u001b[0;34m,\u001b[0m\u001b[0;34m\u001b[0m\u001b[0;34m\u001b[0m\u001b[0m\n\u001b[0;32m--> 100\u001b[0;31m         \u001b[0;34m'simu_'\u001b[0m \u001b[0;34m+\u001b[0m \u001b[0mstr\u001b[0m\u001b[0;34m(\u001b[0m\u001b[0mn\u001b[0m\u001b[0;34m)\u001b[0m\u001b[0;34m,\u001b[0m\u001b[0;34m\u001b[0m\u001b[0;34m\u001b[0m\u001b[0m\n\u001b[0m\u001b[1;32m    101\u001b[0m     )\n\u001b[1;32m    102\u001b[0m     \u001b[0;32mreturn\u001b[0m \u001b[0mfolder_path\u001b[0m\u001b[0;34m\u001b[0m\u001b[0;34m\u001b[0m\u001b[0m\n",
      "\u001b[0;32m~/anaconda3/lib/python3.7/posixpath.py\u001b[0m in \u001b[0;36mjoin\u001b[0;34m(a, *p)\u001b[0m\n\u001b[1;32m     78\u001b[0m     \u001b[0mwill\u001b[0m \u001b[0mbe\u001b[0m \u001b[0mdiscarded\u001b[0m\u001b[0;34m.\u001b[0m  \u001b[0mAn\u001b[0m \u001b[0mempty\u001b[0m \u001b[0mlast\u001b[0m \u001b[0mpart\u001b[0m \u001b[0mwill\u001b[0m \u001b[0mresult\u001b[0m \u001b[0;32min\u001b[0m \u001b[0ma\u001b[0m \u001b[0mpath\u001b[0m \u001b[0mthat\u001b[0m\u001b[0;34m\u001b[0m\u001b[0;34m\u001b[0m\u001b[0m\n\u001b[1;32m     79\u001b[0m     ends with a separator.\"\"\"\n\u001b[0;32m---> 80\u001b[0;31m     \u001b[0ma\u001b[0m \u001b[0;34m=\u001b[0m \u001b[0mos\u001b[0m\u001b[0;34m.\u001b[0m\u001b[0mfspath\u001b[0m\u001b[0;34m(\u001b[0m\u001b[0ma\u001b[0m\u001b[0;34m)\u001b[0m\u001b[0;34m\u001b[0m\u001b[0;34m\u001b[0m\u001b[0m\n\u001b[0m\u001b[1;32m     81\u001b[0m     \u001b[0msep\u001b[0m \u001b[0;34m=\u001b[0m \u001b[0m_get_sep\u001b[0m\u001b[0;34m(\u001b[0m\u001b[0ma\u001b[0m\u001b[0;34m)\u001b[0m\u001b[0;34m\u001b[0m\u001b[0;34m\u001b[0m\u001b[0m\n\u001b[1;32m     82\u001b[0m     \u001b[0mpath\u001b[0m \u001b[0;34m=\u001b[0m \u001b[0ma\u001b[0m\u001b[0;34m\u001b[0m\u001b[0;34m\u001b[0m\u001b[0m\n",
      "\u001b[0;31mTypeError\u001b[0m: expected str, bytes or os.PathLike object, not function"
     ]
    }
   ],
   "source": [
    "for n, log_variable in enumerate(log_variable_dic_list):\n",
    "    # mode scalar\n",
    "    for fixtimeave_id_name in di.no_coord_fixtimeave:\n",
    "        if fixtimeave_id_name in log_variable_dic_list[n]['fixavetime'].keys():\n",
    "            output_folder_path = di.fixtimeave_npy_output_folder_path(n, fixtimeave_id_name, log_variable_dic_list)\n",
    "            text_file_path = di.fixtimeave_text_file_path(fixtimeave_id_name, folder_path_list_initial_to_last, log_variable_dic_list, n)\n",
    "            if os.path.exists(text_file_path):\n",
    "                dd.save_non_coord_to_npy_scalar(\n",
    "                    text_file_path, output_folder_path,\n",
    "                    log_variable, fixtimeave_id_name,\n",
    "                    n_row_header=2,\n",
    "                )"
   ]
  },
  {
   "cell_type": "code",
   "execution_count": 10,
   "metadata": {},
   "outputs": [
    {
     "output_type": "execute_result",
     "data": {
      "text/plain": [
       "'/home/ic6413/simulation/lammps_process/data/01_raw/Link to lmp_run/test/20200511/output/wall/force_y_bottom_to_particle.allstep'"
      ]
     },
     "metadata": {},
     "execution_count": 10
    }
   ],
   "source": [
    "os.path.join(\n",
    "        folder_path_list_initial_to_last[0],\n",
    "        log_variable_dic_list[0]['fixavetime'][fixtimeave_id_name]['file'],\n",
    "    )"
   ]
  },
  {
   "cell_type": "code",
   "execution_count": null,
   "metadata": {},
   "outputs": [],
   "source": []
  }
 ]
}