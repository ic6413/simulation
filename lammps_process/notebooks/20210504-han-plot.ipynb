{
 "metadata": {
  "language_info": {
   "codemirror_mode": {
    "name": "ipython",
    "version": 3
   },
   "file_extension": ".py",
   "mimetype": "text/x-python",
   "name": "python",
   "nbconvert_exporter": "python",
   "pygments_lexer": "ipython3",
   "version": "3.7.3-final"
  },
  "orig_nbformat": 2,
  "kernelspec": {
   "name": "python3",
   "display_name": "Python 3",
   "language": "python"
  }
 },
 "nbformat": 4,
 "nbformat_minor": 2,
 "cells": [
  {
   "cell_type": "code",
   "execution_count": 1,
   "metadata": {},
   "outputs": [],
   "source": [
    "import os\n",
    "import sys\n",
    "import numpy as np\n",
    "import d00_utils.input_text as di\n",
    "import d00_utils.read_log as dr\n",
    "import d00_utils.data_for_plot as ddfp\n",
    "import d00_utils.plot as dp\n",
    "import matplotlib.pyplot as plt\n",
    "import matplotlib.colors as colors\n",
    "\n",
    "\n",
    "lmp_folder_path = di.lmp_folder_path\n",
    "\n",
    "# pickle variable\n",
    "(log_variable_dic_list, n_simu_total, log_variable, folder_path_list_initial_to_last) = dr.dump_variable(lmp_folder_path)\n"
   ]
  },
  {
   "cell_type": "code",
   "execution_count": 3,
   "metadata": {},
   "outputs": [
    {
     "output_type": "execute_result",
     "data": {
      "text/plain": [
       "1"
      ]
     },
     "metadata": {},
     "execution_count": 3
    }
   ],
   "source": [
    "fixid_for_timestep = 'timeav_inwall_force'\n",
    "v_name='inwall_force_1'\n",
    "n_ave=51\n",
    "inputstepsarray=np.arange(15000000,35000000,1000000)\n",
    "fixtimeave_id_name='timeav_inwall_force'\n",
    "is_std=False\n",
    "is_calculated_v=False\n",
    "\n",
    "index_to_read_from = ddfp.find_index_to_read_from(inputstepsarray, fixid_for_timestep, log_variable_dic_list, n_ave)\n",
    "    timestep = ddfp.get_timestep(index_to_read_from, fixid_for_timestep, log_variable_dic_list)\n",
    "    array = ddfp.get_variable(index_to_read_from, v_name, log_variable_dic_list, fixtimeave_id_name=fixtimeave_id_name, is_std=is_std, is_calculated_v=is_calculated_v)\n"
   ]
  },
  {
   "cell_type": "code",
   "execution_count": 4,
   "metadata": {},
   "outputs": [
    {
     "output_type": "error",
     "ename": "KeyError",
     "evalue": "'inwall_force_1'",
     "traceback": [
      "\u001b[0;31m---------------------------------------------------------------------------\u001b[0m",
      "\u001b[0;31mKeyError\u001b[0m                                  Traceback (most recent call last)",
      "\u001b[0;32m<ipython-input-4-c7031cd05d63>\u001b[0m in \u001b[0;36m<module>\u001b[0;34m\u001b[0m\n\u001b[1;32m     22\u001b[0m     \u001b[0mif_on_paper\u001b[0m\u001b[0;34m=\u001b[0m\u001b[0;32mFalse\u001b[0m\u001b[0;34m,\u001b[0m\u001b[0;34m\u001b[0m\u001b[0;34m\u001b[0m\u001b[0m\n\u001b[1;32m     23\u001b[0m     \u001b[0mif_include_0_y_axis\u001b[0m\u001b[0;34m=\u001b[0m\u001b[0;32mTrue\u001b[0m\u001b[0;34m,\u001b[0m\u001b[0;34m\u001b[0m\u001b[0;34m\u001b[0m\u001b[0m\n\u001b[0;32m---> 24\u001b[0;31m     \u001b[0mfixtimeave_id_name\u001b[0m\u001b[0;34m=\u001b[0m\u001b[0;34m'inwall_force_1'\u001b[0m\u001b[0;34m,\u001b[0m\u001b[0;34m\u001b[0m\u001b[0;34m\u001b[0m\u001b[0m\n\u001b[0m\u001b[1;32m     25\u001b[0m     )\n",
      "\u001b[0;32m~/simulation/lammps_process/python/d00_utils/plot.py\u001b[0m in \u001b[0;36mplot_total_wall_force_strain\u001b[0;34m(log_variable_dic_list, n_ave, inputstepsarray, strain_scale_factor, fig_x_label, force_scale_factor, fig_y_label, force_v_name, if_on_paper, if_include_0_y_axis, fixtimeave_id_name)\u001b[0m\n\u001b[1;32m    140\u001b[0m         \u001b[0minputstepsarray\u001b[0m\u001b[0;34m,\u001b[0m\u001b[0;34m\u001b[0m\u001b[0;34m\u001b[0m\u001b[0m\n\u001b[1;32m    141\u001b[0m         \u001b[0mforce_v_name\u001b[0m\u001b[0;34m,\u001b[0m\u001b[0;34m\u001b[0m\u001b[0;34m\u001b[0m\u001b[0m\n\u001b[0;32m--> 142\u001b[0;31m         \u001b[0mfixtimeave_id_name\u001b[0m\u001b[0;34m=\u001b[0m\u001b[0mfixtimeave_id_name\u001b[0m\u001b[0;34m,\u001b[0m\u001b[0;34m\u001b[0m\u001b[0;34m\u001b[0m\u001b[0m\n\u001b[0m\u001b[1;32m    143\u001b[0m     )\n\u001b[1;32m    144\u001b[0m     (fig, ax) = api_plot_1D_1D_dim_xy_11(\n",
      "\u001b[0;32m~/simulation/lammps_process/python/d00_utils/data_for_plot.py\u001b[0m in \u001b[0;36mtotal_wall_force_strain\u001b[0;34m(log_variable_dic_list, n_ave, inputstepsarray, force_v_name, fixtimeave_id_name)\u001b[0m\n\u001b[1;32m    130\u001b[0m     \u001b[0mfixtimeave_id_name\u001b[0m\u001b[0;34m=\u001b[0m\u001b[0;34m'timeav_inwall_force'\u001b[0m\u001b[0;34m,\u001b[0m\u001b[0;34m\u001b[0m\u001b[0;34m\u001b[0m\u001b[0m\n\u001b[1;32m    131\u001b[0m     ):\n\u001b[0;32m--> 132\u001b[0;31m     \u001b[0mforce\u001b[0m \u001b[0;34m=\u001b[0m \u001b[0mget_ave_value\u001b[0m\u001b[0;34m(\u001b[0m\u001b[0mn_ave\u001b[0m\u001b[0;34m,\u001b[0m \u001b[0;34m'timeav_inwall_force'\u001b[0m\u001b[0;34m,\u001b[0m \u001b[0mforce_v_name\u001b[0m\u001b[0;34m,\u001b[0m \u001b[0minputstepsarray\u001b[0m\u001b[0;34m,\u001b[0m \u001b[0mlog_variable_dic_list\u001b[0m\u001b[0;34m,\u001b[0m \u001b[0mfixtimeave_id_name\u001b[0m\u001b[0;34m=\u001b[0m\u001b[0mfixtimeave_id_name\u001b[0m\u001b[0;34m)\u001b[0m\u001b[0;34m\u001b[0m\u001b[0;34m\u001b[0m\u001b[0m\n\u001b[0m\u001b[1;32m    133\u001b[0m     \u001b[0mstrain\u001b[0m \u001b[0;34m=\u001b[0m \u001b[0mstrain_from_rotate_start\u001b[0m\u001b[0;34m(\u001b[0m\u001b[0mnp\u001b[0m\u001b[0;34m.\u001b[0m\u001b[0marray\u001b[0m\u001b[0;34m(\u001b[0m\u001b[0minputstepsarray\u001b[0m\u001b[0;34m)\u001b[0m\u001b[0;34m,\u001b[0m \u001b[0mlog_variable_dic_list\u001b[0m\u001b[0;34m[\u001b[0m\u001b[0;34m-\u001b[0m\u001b[0;36m1\u001b[0m\u001b[0;34m]\u001b[0m\u001b[0;34m)\u001b[0m\u001b[0;34m\u001b[0m\u001b[0;34m\u001b[0m\u001b[0m\n\u001b[1;32m    134\u001b[0m     \u001b[0;32mreturn\u001b[0m \u001b[0;34m(\u001b[0m\u001b[0mstrain\u001b[0m\u001b[0;34m,\u001b[0m \u001b[0mforce\u001b[0m\u001b[0;34m)\u001b[0m\u001b[0;34m\u001b[0m\u001b[0;34m\u001b[0m\u001b[0m\n",
      "\u001b[0;32m~/simulation/lammps_process/python/d00_utils/data_for_plot.py\u001b[0m in \u001b[0;36mget_ave_value\u001b[0;34m(n_ave, fixid_for_timestep, v_name, inputstepsarray, log_variable_dic_list, fixtimeave_id_name, is_std, is_calculated_v)\u001b[0m\n\u001b[1;32m     75\u001b[0m     (array, indexesarray) = get_array_and_index(\n\u001b[1;32m     76\u001b[0m         \u001b[0mn_ave\u001b[0m\u001b[0;34m,\u001b[0m \u001b[0mfixid_for_timestep\u001b[0m\u001b[0;34m,\u001b[0m \u001b[0mv_name\u001b[0m\u001b[0;34m,\u001b[0m \u001b[0minputstepsarray\u001b[0m\u001b[0;34m,\u001b[0m \u001b[0mlog_variable_dic_list\u001b[0m\u001b[0;34m,\u001b[0m\u001b[0;34m\u001b[0m\u001b[0;34m\u001b[0m\u001b[0m\n\u001b[0;32m---> 77\u001b[0;31m         \u001b[0mfixtimeave_id_name\u001b[0m\u001b[0;34m=\u001b[0m\u001b[0mfixtimeave_id_name\u001b[0m\u001b[0;34m,\u001b[0m \u001b[0mis_std\u001b[0m\u001b[0;34m=\u001b[0m\u001b[0mis_std\u001b[0m\u001b[0;34m,\u001b[0m \u001b[0mis_calculated_v\u001b[0m\u001b[0;34m=\u001b[0m\u001b[0mis_calculated_v\u001b[0m\u001b[0;34m,\u001b[0m\u001b[0;34m\u001b[0m\u001b[0;34m\u001b[0m\u001b[0m\n\u001b[0m\u001b[1;32m     78\u001b[0m     )\n\u001b[1;32m     79\u001b[0m     \u001b[0mave_array\u001b[0m \u001b[0;34m=\u001b[0m \u001b[0maverage_over_n_ave\u001b[0m\u001b[0;34m(\u001b[0m\u001b[0mn_ave\u001b[0m\u001b[0;34m,\u001b[0m \u001b[0marray\u001b[0m\u001b[0;34m,\u001b[0m \u001b[0mindexesarray\u001b[0m\u001b[0;34m)\u001b[0m\u001b[0;34m\u001b[0m\u001b[0;34m\u001b[0m\u001b[0m\n",
      "\u001b[0;32m~/simulation/lammps_process/python/d00_utils/data_for_plot.py\u001b[0m in \u001b[0;36mget_array_and_index\u001b[0;34m(n_ave, fixid_for_timestep, v_name, inputstepsarray, log_variable_dic_list, fixtimeave_id_name, is_std, is_calculated_v)\u001b[0m\n\u001b[1;32m     59\u001b[0m     \u001b[0mindex_to_read_from\u001b[0m \u001b[0;34m=\u001b[0m \u001b[0mfind_index_to_read_from\u001b[0m\u001b[0;34m(\u001b[0m\u001b[0minputstepsarray\u001b[0m\u001b[0;34m,\u001b[0m \u001b[0mfixid_for_timestep\u001b[0m\u001b[0;34m,\u001b[0m \u001b[0mlog_variable_dic_list\u001b[0m\u001b[0;34m,\u001b[0m \u001b[0mn_ave\u001b[0m\u001b[0;34m)\u001b[0m\u001b[0;34m\u001b[0m\u001b[0;34m\u001b[0m\u001b[0m\n\u001b[1;32m     60\u001b[0m     \u001b[0mtimestep\u001b[0m \u001b[0;34m=\u001b[0m \u001b[0mget_timestep\u001b[0m\u001b[0;34m(\u001b[0m\u001b[0mindex_to_read_from\u001b[0m\u001b[0;34m,\u001b[0m \u001b[0mfixid_for_timestep\u001b[0m\u001b[0;34m,\u001b[0m \u001b[0mlog_variable_dic_list\u001b[0m\u001b[0;34m)\u001b[0m\u001b[0;34m\u001b[0m\u001b[0;34m\u001b[0m\u001b[0m\n\u001b[0;32m---> 61\u001b[0;31m     \u001b[0marray\u001b[0m \u001b[0;34m=\u001b[0m \u001b[0mget_variable\u001b[0m\u001b[0;34m(\u001b[0m\u001b[0mindex_to_read_from\u001b[0m\u001b[0;34m,\u001b[0m \u001b[0mv_name\u001b[0m\u001b[0;34m,\u001b[0m \u001b[0mlog_variable_dic_list\u001b[0m\u001b[0;34m,\u001b[0m \u001b[0mfixtimeave_id_name\u001b[0m\u001b[0;34m=\u001b[0m\u001b[0mfixtimeave_id_name\u001b[0m\u001b[0;34m,\u001b[0m \u001b[0mis_std\u001b[0m\u001b[0;34m=\u001b[0m\u001b[0mis_std\u001b[0m\u001b[0;34m,\u001b[0m \u001b[0mis_calculated_v\u001b[0m\u001b[0;34m=\u001b[0m\u001b[0mis_calculated_v\u001b[0m\u001b[0;34m)\u001b[0m\u001b[0;34m\u001b[0m\u001b[0;34m\u001b[0m\u001b[0m\n\u001b[0m\u001b[1;32m     62\u001b[0m \u001b[0;34m\u001b[0m\u001b[0m\n\u001b[1;32m     63\u001b[0m     \u001b[0;32mif\u001b[0m \u001b[0mindex_to_read_from\u001b[0m \u001b[0;34m+\u001b[0m \u001b[0;36m1\u001b[0m \u001b[0;34m<\u001b[0m \u001b[0mlen\u001b[0m\u001b[0;34m(\u001b[0m\u001b[0mlog_variable_dic_list\u001b[0m\u001b[0;34m)\u001b[0m\u001b[0;34m:\u001b[0m\u001b[0;34m\u001b[0m\u001b[0;34m\u001b[0m\u001b[0m\n",
      "\u001b[0;32m~/simulation/lammps_process/python/d00_utils/data_for_plot.py\u001b[0m in \u001b[0;36mget_variable\u001b[0;34m(n, v_name, log_variable_dic_list, fixtimeave_id_name, is_std, is_calculated_v)\u001b[0m\n\u001b[1;32m     11\u001b[0m \u001b[0;34m\u001b[0m\u001b[0m\n\u001b[1;32m     12\u001b[0m \u001b[0;32mdef\u001b[0m \u001b[0mget_variable\u001b[0m\u001b[0;34m(\u001b[0m\u001b[0mn\u001b[0m\u001b[0;34m,\u001b[0m \u001b[0mv_name\u001b[0m\u001b[0;34m,\u001b[0m \u001b[0mlog_variable_dic_list\u001b[0m\u001b[0;34m,\u001b[0m \u001b[0mfixtimeave_id_name\u001b[0m\u001b[0;34m=\u001b[0m\u001b[0;32mNone\u001b[0m\u001b[0;34m,\u001b[0m \u001b[0mis_std\u001b[0m\u001b[0;34m=\u001b[0m\u001b[0;32mFalse\u001b[0m\u001b[0;34m,\u001b[0m \u001b[0mis_calculated_v\u001b[0m\u001b[0;34m=\u001b[0m\u001b[0;32mFalse\u001b[0m\u001b[0;34m)\u001b[0m\u001b[0;34m:\u001b[0m\u001b[0;34m\u001b[0m\u001b[0;34m\u001b[0m\u001b[0m\n\u001b[0;32m---> 13\u001b[0;31m     \u001b[0mv_path\u001b[0m \u001b[0;34m=\u001b[0m \u001b[0mdi\u001b[0m\u001b[0;34m.\u001b[0m\u001b[0mv_name_to_path\u001b[0m\u001b[0;34m(\u001b[0m\u001b[0mn\u001b[0m\u001b[0;34m,\u001b[0m \u001b[0mv_name\u001b[0m\u001b[0;34m,\u001b[0m \u001b[0mlog_variable_dic_list\u001b[0m\u001b[0;34m,\u001b[0m \u001b[0mfixtimeave_id_name\u001b[0m\u001b[0;34m=\u001b[0m\u001b[0mfixtimeave_id_name\u001b[0m\u001b[0;34m,\u001b[0m \u001b[0mis_std\u001b[0m\u001b[0;34m=\u001b[0m\u001b[0mis_std\u001b[0m\u001b[0;34m,\u001b[0m \u001b[0mis_calculated_v\u001b[0m\u001b[0;34m=\u001b[0m\u001b[0mis_calculated_v\u001b[0m\u001b[0;34m)\u001b[0m\u001b[0;34m\u001b[0m\u001b[0;34m\u001b[0m\u001b[0m\n\u001b[0m\u001b[1;32m     14\u001b[0m     \u001b[0mvalue\u001b[0m \u001b[0;34m=\u001b[0m \u001b[0mnp\u001b[0m\u001b[0;34m.\u001b[0m\u001b[0mload\u001b[0m\u001b[0;34m(\u001b[0m\u001b[0mv_path\u001b[0m\u001b[0;34m,\u001b[0m \u001b[0mmmap_mode\u001b[0m\u001b[0;34m=\u001b[0m\u001b[0;34m'r'\u001b[0m\u001b[0;34m)\u001b[0m\u001b[0;34m\u001b[0m\u001b[0;34m\u001b[0m\u001b[0m\n\u001b[1;32m     15\u001b[0m     \u001b[0;32mreturn\u001b[0m \u001b[0mvalue\u001b[0m\u001b[0;34m\u001b[0m\u001b[0;34m\u001b[0m\u001b[0m\n",
      "\u001b[0;32m~/simulation/lammps_process/python/d00_utils/input_text.py\u001b[0m in \u001b[0;36mv_name_to_path\u001b[0;34m(n, v_name, log_variable_dic_list, fixtimeave_id_name, is_std, is_calculated_v)\u001b[0m\n\u001b[1;32m    385\u001b[0m \u001b[0;32mdef\u001b[0m \u001b[0mv_name_to_path\u001b[0m\u001b[0;34m(\u001b[0m\u001b[0mn\u001b[0m\u001b[0;34m,\u001b[0m \u001b[0mv_name\u001b[0m\u001b[0;34m,\u001b[0m \u001b[0mlog_variable_dic_list\u001b[0m\u001b[0;34m,\u001b[0m \u001b[0mfixtimeave_id_name\u001b[0m\u001b[0;34m=\u001b[0m\u001b[0;32mNone\u001b[0m\u001b[0;34m,\u001b[0m \u001b[0mis_std\u001b[0m\u001b[0;34m=\u001b[0m\u001b[0;32mFalse\u001b[0m\u001b[0;34m,\u001b[0m \u001b[0mis_calculated_v\u001b[0m\u001b[0;34m=\u001b[0m\u001b[0;32mFalse\u001b[0m\u001b[0;34m)\u001b[0m\u001b[0;34m:\u001b[0m\u001b[0;34m\u001b[0m\u001b[0;34m\u001b[0m\u001b[0m\n\u001b[1;32m    386\u001b[0m     \u001b[0;32mif\u001b[0m \u001b[0mfixtimeave_id_name\u001b[0m \u001b[0;32mis\u001b[0m \u001b[0;32mnot\u001b[0m \u001b[0;32mNone\u001b[0m\u001b[0;34m:\u001b[0m\u001b[0;34m\u001b[0m\u001b[0;34m\u001b[0m\u001b[0m\n\u001b[0;32m--> 387\u001b[0;31m         \u001b[0mpath\u001b[0m \u001b[0;34m=\u001b[0m \u001b[0mfixtimeave_npy_output_file_path\u001b[0m\u001b[0;34m(\u001b[0m\u001b[0mn\u001b[0m\u001b[0;34m,\u001b[0m \u001b[0mfixtimeave_id_name\u001b[0m\u001b[0;34m,\u001b[0m \u001b[0mlog_variable_dic_list\u001b[0m\u001b[0;34m,\u001b[0m \u001b[0mv_name\u001b[0m\u001b[0;34m)\u001b[0m\u001b[0;34m\u001b[0m\u001b[0;34m\u001b[0m\u001b[0m\n\u001b[0m\u001b[1;32m    388\u001b[0m     \u001b[0;32melif\u001b[0m \u001b[0mis_std\u001b[0m\u001b[0;34m:\u001b[0m\u001b[0;34m\u001b[0m\u001b[0;34m\u001b[0m\u001b[0m\n\u001b[1;32m    389\u001b[0m         \u001b[0mpath\u001b[0m \u001b[0;34m=\u001b[0m \u001b[0mnpy_calculated_std_file_path\u001b[0m\u001b[0;34m(\u001b[0m\u001b[0mv_name\u001b[0m\u001b[0;34m,\u001b[0m \u001b[0mn\u001b[0m\u001b[0;34m,\u001b[0m \u001b[0mlog_variable_dic_list\u001b[0m\u001b[0;34m)\u001b[0m\u001b[0;34m\u001b[0m\u001b[0;34m\u001b[0m\u001b[0m\n",
      "\u001b[0;32m~/simulation/lammps_process/python/d00_utils/input_text.py\u001b[0m in \u001b[0;36mfixtimeave_npy_output_file_path\u001b[0;34m(n, fixtimeave_id_name, log_variable_dic_list, filename)\u001b[0m\n\u001b[1;32m    145\u001b[0m \u001b[0;32mdef\u001b[0m \u001b[0mfixtimeave_npy_output_file_path\u001b[0m\u001b[0;34m(\u001b[0m\u001b[0mn\u001b[0m\u001b[0;34m,\u001b[0m \u001b[0mfixtimeave_id_name\u001b[0m\u001b[0;34m,\u001b[0m \u001b[0mlog_variable_dic_list\u001b[0m\u001b[0;34m,\u001b[0m \u001b[0mfilename\u001b[0m\u001b[0;34m)\u001b[0m\u001b[0;34m:\u001b[0m\u001b[0;34m\u001b[0m\u001b[0;34m\u001b[0m\u001b[0m\n\u001b[1;32m    146\u001b[0m     filepath = os.path.join(\n\u001b[0;32m--> 147\u001b[0;31m         \u001b[0mfixtimeave_npy_output_folder_path\u001b[0m\u001b[0;34m(\u001b[0m\u001b[0mn\u001b[0m\u001b[0;34m,\u001b[0m \u001b[0mfixtimeave_id_name\u001b[0m\u001b[0;34m,\u001b[0m \u001b[0mlog_variable_dic_list\u001b[0m\u001b[0;34m)\u001b[0m\u001b[0;34m,\u001b[0m\u001b[0;34m\u001b[0m\u001b[0;34m\u001b[0m\u001b[0m\n\u001b[0m\u001b[1;32m    148\u001b[0m         \u001b[0madd_npy_if_not\u001b[0m\u001b[0;34m(\u001b[0m\u001b[0mfilename\u001b[0m\u001b[0;34m)\u001b[0m\u001b[0;34m,\u001b[0m\u001b[0;34m\u001b[0m\u001b[0;34m\u001b[0m\u001b[0m\n\u001b[1;32m    149\u001b[0m     )\n",
      "\u001b[0;32m~/simulation/lammps_process/python/d00_utils/input_text.py\u001b[0m in \u001b[0;36mfixtimeave_npy_output_folder_path\u001b[0;34m(n, fixtimeave_id_name, log_variable_dic_list)\u001b[0m\n\u001b[1;32m    117\u001b[0m     folder_path = os.path.join(\n\u001b[1;32m    118\u001b[0m         \u001b[0mnpy_raw_folder_path\u001b[0m\u001b[0;34m(\u001b[0m\u001b[0mn\u001b[0m\u001b[0;34m,\u001b[0m \u001b[0mlog_variable_dic_list\u001b[0m\u001b[0;34m)\u001b[0m\u001b[0;34m,\u001b[0m\u001b[0;34m\u001b[0m\u001b[0;34m\u001b[0m\u001b[0m\n\u001b[0;32m--> 119\u001b[0;31m         \u001b[0mnpy_output_subfolder_name_map_from_id\u001b[0m\u001b[0;34m[\u001b[0m\u001b[0mfixtimeave_id_name\u001b[0m\u001b[0;34m]\u001b[0m\u001b[0;34m,\u001b[0m\u001b[0;34m\u001b[0m\u001b[0;34m\u001b[0m\u001b[0m\n\u001b[0m\u001b[1;32m    120\u001b[0m     )\n\u001b[1;32m    121\u001b[0m     \u001b[0;32mreturn\u001b[0m \u001b[0mfolder_path\u001b[0m\u001b[0;34m\u001b[0m\u001b[0;34m\u001b[0m\u001b[0m\n",
      "\u001b[0;31mKeyError\u001b[0m: 'inwall_force_1'"
     ]
    }
   ],
   "source": [
    "stress_scale_width = float(log_variable['den'])*float(log_variable['g'])*float(log_variable['width_wall_dp_unit'])*float(log_variable['dp'])\n",
    "stress_scale_width_str = r'$\\rho_s g w $'\n",
    "stress_scale_height = float(log_variable['den'])*float(log_variable['g'])*float(log_variable['z_length_create_dp_unit'])*float(log_variable['dp'])\n",
    "stress_scale_height_str = r'$\\rho_s g h $'\n",
    "inwall_area = (\n",
    "    float(log_variable['x_period_dp_unit'])\n",
    "    *float(log_variable['z_length_create_dp_unit'])\n",
    "    *float(log_variable['dp'])**2\n",
    ")\n",
    "bottom_area = (\n",
    "    float(log_variable['width_wall_dp_unit'])\n",
    "    *float(log_variable['x_period_dp_unit'])\n",
    "    *float(log_variable['dp'])**2\n",
    ")\n",
    "dp.plot_total_wall_force_strain(\n",
    "    log_variable_dic_list,\n",
    "    51,\n",
    "    np.arange(15000000,35000000,1000000),\n",
    "    1, r'$\\gamma$',\n",
    "    inwall_area*stress_scale_height, r'$\\sigma_{12}$',\n",
    "    'inwall_force_1',\n",
    "    if_on_paper=False,\n",
    "    if_include_0_y_axis=True,\n",
    "    fixtimeave_id_name='timeav_inwall_force',\n",
    "    )"
   ]
  },
  {
   "cell_type": "code",
   "execution_count": 1,
   "metadata": {},
   "outputs": [
    {
     "output_type": "error",
     "ename": "NameError",
     "evalue": "name 'dp' is not defined",
     "traceback": [
      "\u001b[0;31m---------------------------------------------------------------------------\u001b[0m",
      "\u001b[0;31mNameError\u001b[0m                                 Traceback (most recent call last)",
      "\u001b[0;32m<ipython-input-1-82c542296fec>\u001b[0m in \u001b[0;36m<module>\u001b[0;34m\u001b[0m\n\u001b[0;32m----> 1\u001b[0;31m \u001b[0mdp\u001b[0m\u001b[0;34m.\u001b[0m\u001b[0msave_close\u001b[0m\u001b[0;34m(\u001b[0m\u001b[0mfig\u001b[0m\u001b[0;34m,\u001b[0m \u001b[0max\u001b[0m\u001b[0;34m,\u001b[0m \u001b[0mdi\u001b[0m\u001b[0;34m.\u001b[0m\u001b[0mfigures_file_path\u001b[0m\u001b[0;34m(\u001b[0m\u001b[0;34m\"test\"\u001b[0m\u001b[0;34m)\u001b[0m\u001b[0;34m)\u001b[0m\u001b[0;34m\u001b[0m\u001b[0;34m\u001b[0m\u001b[0m\n\u001b[0m",
      "\u001b[0;31mNameError\u001b[0m: name 'dp' is not defined"
     ]
    }
   ],
   "source": [
    "dp.save_close(fig, ax, di.figures_file_path(\"test\"))"
   ]
  },
  {
   "cell_type": "code",
   "execution_count": null,
   "metadata": {},
   "outputs": [],
   "source": [
    "\n",
    "\n",
    "fixtimeave_id_name\n",
    "filepath = di.fixtimeave_npy_output_folder_path(n, fixtimeave_id_name, log_variable_dic_list)\n",
    "np.load(filepath, mmap_mode='r')\n",
    "\n",
    "n, fixtimeave_id_name, log_variable_dic_list, v_name_in_header\n",
    "\n",
    "fixtimeave_npy_output_file_path(n, fixtimeave_id_name, log_variable_dic_list, v_name_in_header)\n",
    "\n",
    "\n",
    "name\n",
    "scale_factor\n",
    "fig_axis_label\n",
    "filepath\n",
    "\n",
    "array_dim_order\n",
    "legend_input_array_dim_order\n",
    "legend_output_array_dim_order\n",
    "\n",
    "fig ax\n",
    "\n",
    "\n",
    "{\n",
    "            'lmp_path': lmp_path,\n",
    "            'if_on_paper': False, 'n_ave': 51, \n",
    "            'inputstepsarray': np.arange(5600000, 40000000, 500000),\n",
    "            'x_name': \"strain\", 'x_scale_factor': 1, 'fig_x_label': r'$\\gamma$',\n",
    "            'useerrorbar': False,\n",
    "            'if_include_0_y_axis': True,\n",
    "        },\n",
    "\n",
    "\n",
    "\n"
   ]
  },
  {
   "cell_type": "code",
   "execution_count": null,
   "metadata": {},
   "outputs": [],
   "source": [
    "\n",
    "import matplotlib\n",
    "import matplotlib.pyplot as plt\n",
    "import numpy as np\n",
    "\n",
    "def plotdata(\n",
    "    lmp_path,\n",
    "    if_on_paper, n_ave, \n",
    "    inputstepsarray,\n",
    "    coord1_index_array,\n",
    "    coord2_index_array,\n",
    "    x_name, x_scale_factor, fig_x_label, x_array_dim_order, x_array_legend_input_array_dim_order, x_array_legend_output_array_dim_order,\n",
    "    y_name, y_scale_factor, fig_y_label, y_array_dim_order, y_array_legend_input_array_dim_order, y_array_legend_output_array_dim_order,\n",
    "    useerrorbar,\n",
    "    if_mv_over_m=False,\n",
    "):\n",
    "\n",
    "\n",
    "# data\n",
    "# set x y dict\n",
    "    x_dict = {\n",
    "        'name': x_name, 'scale_factor': x_scale_factor, 'fig_label': fig_x_label,\n",
    "        'value': None, 'value_std': None,\n",
    "    }\n",
    "    y_dict = {\n",
    "        'name': y_name, 'scale_factor': y_scale_factor, 'fig_label': fig_y_label,\n",
    "        'value': None, 'value_std': None,\n",
    "    }\n",
    "    # get value for x y and rescale\n",
    "    for d in [x_dict, y_dict]:\n",
    "        # get value\n",
    "        d['value'] = get_value_nochunk_include_ts_t_st(lmp_path, d['name'], n_ave, inputstepsarray, y_name)/d['scale_factor']\n",
    "        \n",
    "    # check if x-array y-array has the same shape\n",
    "    xarray = x_dict['value']\n",
    "    yarray = y_dict['value']\n",
    "    if xarray.shape[-1] != yarray.shape[-1]:\n",
    "        sys.exit(\"shape for x y are different\")\n",
    "    \n",
    "\n",
    "# create folder\n",
    "\n",
    "plotdata_createfolder(if_on_paper, n_ave, x_name, y_name)\n",
    "\n",
    "(fig, ax) = plotdata_figure_process(\n",
    "    lmp_path,\n",
    "    if_on_paper,\n",
    "    n_ave,\n",
    "    inputstepsarray,\n",
    "    coord1_index_array,\n",
    "    coord2_index_array,\n",
    "    x_name, x_scale_factor, fig_x_label, x_array_dim_order, x_array_legend_input_array_dim_order, x_array_legend_output_array_dim_order,\n",
    "    y_name, y_scale_factor, fig_y_label, y_array_dim_order, y_array_legend_input_array_dim_order, y_array_legend_output_array_dim_order,\n",
    "    useerrorbar,\n",
    "    if_mv_over_m=if_mv_over_m,\n",
    ")\n",
    "plotdata_figure_save(\n",
    "    fig, ax,\n",
    "    n_ave,\n",
    "    x_name,\n",
    "    y_name,\n",
    "    inputstepsarray,\n",
    "    coord1_index_array,\n",
    "    coord2_index_array,\n",
    "    y_array_legend_input_array_dim_order,\n",
    "    y_array_legend_output_array_dim_order,\n",
    "    if_on_paper,\n",
    ")"
   ]
  }
 ]
}