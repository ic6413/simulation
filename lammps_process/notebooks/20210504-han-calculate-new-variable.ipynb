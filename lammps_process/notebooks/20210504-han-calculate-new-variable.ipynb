{
 "metadata": {
  "language_info": {
   "codemirror_mode": {
    "name": "ipython",
    "version": 3
   },
   "file_extension": ".py",
   "mimetype": "text/x-python",
   "name": "python",
   "nbconvert_exporter": "python",
   "pygments_lexer": "ipython3",
   "version": "3.7.3-final"
  },
  "orig_nbformat": 2,
  "kernelspec": {
   "name": "python3",
   "display_name": "Python 3",
   "language": "python"
  }
 },
 "nbformat": 4,
 "nbformat_minor": 2,
 "cells": [
  {
   "cell_type": "code",
   "execution_count": 1,
   "metadata": {},
   "outputs": [],
   "source": [
    "import os\n",
    "import sys\n",
    "import numpy as np\n",
    "import d00_utils.input_text as di\n",
    "import d00_utils.read_log as dr\n",
    "import d00_utils.data as dd\n",
    "import d00_utils.calculate_new_variable as dc\n",
    "\n",
    "lmp_folder_path = di.lmp_folder_path\n",
    "\n",
    "# pickle variable\n",
    "(log_variable_dic_list, n_simu_total, log_variable, folder_path_list_initial_to_last) = dr.dump_variable(lmp_folder_path)\n",
    "\n"
   ]
  },
  {
   "cell_type": "code",
   "execution_count": 4,
   "metadata": {},
   "outputs": [],
   "source": [
    "\n",
    "in_name_mv = 'mv_3'\n",
    "out_v_name = 'velocity_3'\n",
    "\n",
    "dc.multi_save_velocity_by_mv(in_name_mv, out_v_name, log_variable_dic_list, mass_name='mass')\n"
   ]
  },
  {
   "cell_type": "code",
   "execution_count": null,
   "metadata": {},
   "outputs": [],
   "source": []
  },
  {
   "cell_type": "code",
   "execution_count": 2,
   "metadata": {},
   "outputs": [
    {
     "output_type": "error",
     "ename": "NameError",
     "evalue": "name 'load_v_array' is not defined",
     "traceback": [
      "\u001b[0;31m---------------------------------------------------------------------------\u001b[0m",
      "\u001b[0;31mNameError\u001b[0m                                 Traceback (most recent call last)",
      "\u001b[0;32m<ipython-input-2-4f86971e601d>\u001b[0m in \u001b[0;36m<module>\u001b[0;34m\u001b[0m\n\u001b[1;32m     10\u001b[0m     ]:\n\u001b[1;32m     11\u001b[0m         \u001b[0mv_name\u001b[0m \u001b[0;34m=\u001b[0m \u001b[0mwallstr\u001b[0m \u001b[0;34m+\u001b[0m \u001b[0;34m\"_force_\"\u001b[0m \u001b[0;34m+\u001b[0m \u001b[0mstr\u001b[0m\u001b[0;34m(\u001b[0m\u001b[0mindex_component_i\u001b[0m\u001b[0;34m)\u001b[0m\u001b[0;34m\u001b[0m\u001b[0;34m\u001b[0m\u001b[0m\n\u001b[0;32m---> 12\u001b[0;31m         \u001b[0mwallforce\u001b[0m \u001b[0;34m=\u001b[0m \u001b[0mload_v_array\u001b[0m\u001b[0;34m(\u001b[0m\u001b[0mlmp_path\u001b[0m\u001b[0;34m,\u001b[0m \u001b[0mv_name\u001b[0m\u001b[0;34m)\u001b[0m\u001b[0;34m\u001b[0m\u001b[0;34m\u001b[0m\u001b[0m\n\u001b[0m\u001b[1;32m     13\u001b[0m         \u001b[0mwallforce_std\u001b[0m \u001b[0;34m=\u001b[0m \u001b[0mload_v_array\u001b[0m\u001b[0;34m(\u001b[0m\u001b[0mlmp_path\u001b[0m\u001b[0;34m,\u001b[0m \u001b[0mv_name\u001b[0m \u001b[0;34m+\u001b[0m \u001b[0;34m\"_std\"\u001b[0m\u001b[0;34m)\u001b[0m\u001b[0;34m\u001b[0m\u001b[0;34m\u001b[0m\u001b[0m\n\u001b[1;32m     14\u001b[0m         \u001b[0mwallstress\u001b[0m \u001b[0;34m=\u001b[0m \u001b[0mwallforce\u001b[0m\u001b[0;34m/\u001b[0m\u001b[0mbin2D_area_nearwall\u001b[0m\u001b[0;34m\u001b[0m\u001b[0;34m\u001b[0m\u001b[0m\n",
      "\u001b[0;31mNameError\u001b[0m: name 'load_v_array' is not defined"
     ]
    }
   ],
   "source": [
    "# calculate velocity and save\n",
    "\n",
    "for index_component_i in [1,2,3]:\n",
    "    mv_i = load_v_array(lmp_path, \"mv_\" + str(index_component_i))\n",
    "    mv_i_std = load_v_array(lmp_path, \"mv_\" + str(index_component_i) + \"_std\")\n",
    "    mass = load_v_array(lmp_path, \"mass\")\n",
    "    mass_std = load_v_array(lmp_path, \"mass_std\")\n",
    "    velocity_i = mv_i/mass\n",
    "    velocity_i_std = propagation_of_std_divide(mv_i, mv_i_std, mass, mass_std)\n",
    "    #os.makedirs(lmp_path + \"postprocess/npy/calculate/\", exist_ok=True)\n",
    "    save_v_array_to_disk(lmp_path, \"velocity_\" + str(index_component_i), velocity_i)\n",
    "    save_v_array_to_disk(lmp_path, \"velocity_\" + str(index_component_i) + \"_std\", velocity_i_std)"
   ]
  },
  {
   "cell_type": "code",
   "execution_count": null,
   "metadata": {},
   "outputs": [],
   "source": []
  }
 ]
}