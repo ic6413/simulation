{
 "metadata": {
  "language_info": {
   "codemirror_mode": {
    "name": "ipython",
    "version": 3
   },
   "file_extension": ".py",
   "mimetype": "text/x-python",
   "name": "python",
   "nbconvert_exporter": "python",
   "pygments_lexer": "ipython3",
   "version": "3.7.3-final"
  },
  "orig_nbformat": 2,
  "kernelspec": {
   "name": "python3",
   "display_name": "Python 3",
   "language": "python"
  }
 },
 "nbformat": 4,
 "nbformat_minor": 2,
 "cells": [
  {
   "cell_type": "code",
   "execution_count": 1,
   "metadata": {},
   "outputs": [],
   "source": [
    "import os\n",
    "import sys\n",
    "import d00_utils.input_text as di\n",
    "import d00_utils.read_log as dr\n",
    "import d00_utils.data as dd\n",
    "import numpy as np\n",
    "import d00_utils.latex as dl\n",
    "import d00_utils.plot as dp\n",
    "lmp_folder_path = os.path.join(\n",
    "    os.path.expanduser(\"~\"),\n",
    "    'simulation',\n",
    "    'lammps_process',\n",
    "    'data',\n",
    "    '01_raw',\n",
    "    'Link to lmp_run',\n",
    "    '20200921_nott_H_90_W_16_L_50',\n",
    "    'f_5e6',\n",
    "    'f_15e6',\n",
    "    'f_35e6',\n",
    ")\n",
    "# pickle variable\n",
    "(log_variable_dic_list, n_simu_total, log_variable, folder_path_list_initial_to_last) = dr.dump_variable(lmp_folder_path)\n",
    "\n",
    "# check if all fixavetime included\n",
    "outputlist = list(di.map_fixtimeave_value_to_coord_by_id.keys()) + di.coord_chunk_id_list + di.no_coord_fixtimeave\n",
    "\n"
   ]
  },
  {
   "cell_type": "code",
   "execution_count": 3,
   "metadata": {},
   "outputs": [
    {
     "output_type": "execute_result",
     "data": {
      "text/plain": [
       "['/home/ic6413/simulation/lammps_process/data/07_plots/W_16_H_30_L_50_Sa_2.00e-06/view/inwall_force_1.png',\n",
       " '/home/ic6413/simulation/lammps_process/data/07_plots/W_16_H_30_L_50_Sa_2.00e-06/view/inwall_force_2.png',\n",
       " '/home/ic6413/simulation/lammps_process/data/07_plots/W_16_H_30_L_50_Sa_2.00e-06/view/inwall_force_3.png',\n",
       " '/home/ic6413/simulation/lammps_process/data/07_plots/W_16_H_30_L_50_Sa_2.00e-06/view/outwall_force_1.png',\n",
       " '/home/ic6413/simulation/lammps_process/data/07_plots/W_16_H_30_L_50_Sa_2.00e-06/view/outwall_force_2.png',\n",
       " '/home/ic6413/simulation/lammps_process/data/07_plots/W_16_H_30_L_50_Sa_2.00e-06/view/outwall_force_3.png',\n",
       " '/home/ic6413/simulation/lammps_process/data/07_plots/W_16_H_30_L_50_Sa_2.00e-06/view/stream_6000000.png',\n",
       " '/home/ic6413/simulation/lammps_process/data/07_plots/W_16_H_30_L_50_Sa_2.00e-06/view/stream_15000000.png',\n",
       " '/home/ic6413/simulation/lammps_process/data/07_plots/W_16_H_30_L_50_Sa_2.00e-06/view/velocity_1.png',\n",
       " '/home/ic6413/simulation/lammps_process/data/07_plots/W_16_H_30_L_50_Sa_2.00e-06/view/zbottom_force_1.png',\n",
       " '/home/ic6413/simulation/lammps_process/data/07_plots/W_16_H_30_L_50_Sa_2.00e-06/view/zbottom_force_2.png',\n",
       " '/home/ic6413/simulation/lammps_process/data/07_plots/W_16_H_30_L_50_Sa_2.00e-06/view/zbottom_force_3.png']"
      ]
     },
     "metadata": {},
     "execution_count": 3
    }
   ],
   "source": [
    "default_filepath=di.latex_for_view_file_path(log_variable_dic_list)\n",
    "walkpath = di.plots_for_view_folder(log_variable_dic_list)\n",
    "pic_path_list = dl.plots_path_list(log_variable_dic_list, walkpath)\n",
    "pic_path_list"
   ]
  },
  {
   "cell_type": "code",
   "execution_count": 2,
   "metadata": {},
   "outputs": [
    {
     "output_type": "stream",
     "name": "stdout",
     "text": [
      "npy file exist, path is /home/ic6413/simulation/lammps_process/data/02_intermediate/W_16_H_30_L_50_Sa_2.00e-06/npy/simu_0/coord_chunk_2_3/Coord1\nnpy file exist, path is /home/ic6413/simulation/lammps_process/data/02_intermediate/W_16_H_30_L_50_Sa_2.00e-06/npy/simu_0/coord_chunk_2_3/Coord2\n"
     ]
    }
   ],
   "source": [
    "coord_2_3_path = os.path.join(\n",
    "    lmp_folder_path,\n",
    "    log_variable['fixavechunk'][di.coord_chunk_id_23_replace]['file'],\n",
    ")\n",
    "len_in_each_dim_coord23 = dd.len_in_each_dim_coord23(coord_2_3_path, n_row_header=3, n_column_of_step=1, n_column_of_chunk_number=2)\n",
    "# coord chunk\n",
    "n=0\n",
    "log_variable=log_variable_dic_list[n]\n",
    "# mode scalar\n",
    "if di.coord_chunk_id_23_replace in log_variable_dic_list[n]['fixavechunk'].keys():\n",
    "    output_folder_path = di.fixtimeave_npy_output_folder_path(n, di.coord_chunk_id_23, log_variable_dic_list)\n",
    "    input_text_path = di.fixchunkave_text_file_path(n, di.coord_chunk_id_23_replace, log_variable_dic_list, folder_path_list_initial_to_last)\n",
    "    if os.path.exists(input_text_path):\n",
    "        dd.save_coord_to_npy(\n",
    "            input_text_path, output_folder_path, di.output_shape_map_from_id[di.coord_chunk_id_23], len_in_each_dim_coord23,\n",
    "            log_variable, di.coord_chunk_id_23_replace,\n",
    "            n_row_header=3, n_column_of_step=1, n_column_of_chunk_number=2,\n",
    "            fixtype=\"fixavechunk\",\n",
    "        )\n",
    "coord_chunk_id_inwall = 'coord1and2_chunk_near_inwall'\n",
    "coord_chunk_id_outwall = 'coord1and2_chunk_near_outwall'\n",
    "coord_chunk_id_zbottom = 'coord1and2_chunk_near_zbottom'"
   ]
  },
  {
   "cell_type": "code",
   "execution_count": 3,
   "metadata": {},
   "outputs": [],
   "source": [
    "for name in di.coord_name_list:\n",
    "    value = np.load(di.fixtimeave_npy_output_file_path(n, di.coord_chunk_id_23, log_variable_dic_list, name))\n",
    "    os.makedirs(di.fixtimeave_npy_output_folder_path(n, di.coord_chunk_id_inwall, log_variable_dic_list), exist_ok=True)\n",
    "    np.save(di.fixtimeave_npy_output_file_path(n, di.coord_chunk_id_inwall, log_variable_dic_list,name), dd.inwall_cood_from_chunk23_coord(value))\n"
   ]
  }
 ]
}