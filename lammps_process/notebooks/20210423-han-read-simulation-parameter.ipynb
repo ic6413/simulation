{
 "metadata": {
  "language_info": {
   "codemirror_mode": {
    "name": "ipython",
    "version": 3
   },
   "file_extension": ".py",
   "mimetype": "text/x-python",
   "name": "python",
   "nbconvert_exporter": "python",
   "pygments_lexer": "ipython3",
   "version": "3.7.3-final"
  },
  "orig_nbformat": 2,
  "kernelspec": {
   "name": "python3",
   "display_name": "Python 3.7.3 64-bit ('anaconda3': virtualenv)",
   "metadata": {
    "interpreter": {
     "hash": "014bbb060d5dcd6f172b95fb49fd54994da1b47573c78d9746be25b2deaee267"
    }
   }
  }
 },
 "nbformat": 4,
 "nbformat_minor": 2,
 "cells": [
  {
   "cell_type": "code",
   "execution_count": 1,
   "metadata": {},
   "outputs": [],
   "source": [
    "import d00_utils.read_log as dr\n",
    "# read log file to lines and\n",
    "# read log file\n",
    "log_variable_folder_path = os.path.join(\n",
    "    os.path.expanduser(\"~\"),\n",
    "    'simulation',\n",
    "    'lammps_process',\n",
    "    'data',\n",
    "    '01_raw',\n",
    "    'Link to lmp_run',\n",
    "    'test',\n",
    "    '20200511',\n",
    "    'f_5e6',\n",
    ")\n"
   ]
  },
  {
   "cell_type": "code",
   "execution_count": 2,
   "metadata": {},
   "outputs": [],
   "source": [
    "log_variable = dr.get_log_variable_dic_fromlog_variable(log_variable_folder_path)\n"
   ]
  },
  {
   "cell_type": "code",
   "execution_count": 3,
   "metadata": {},
   "outputs": [],
   "source": [
    "import pickle\n",
    "import json\n",
    "folder_path_list_last_to_initial = [log_variable_folder_path]\n",
    "log_variable = dr.get_log_variable_dic_fromlog_variable(log_variable_folder_path)\n",
    "log_variable_dic_list_last_to_initial = [log_variable]\n",
    "parent_folder_path = os.path.abspath(os.path.join(log_variable_folder_path, os.pardir))\n",
    "while log_variable['rst_from'] != '0' and os.path.isfile(os.path.join(parent_folder_path, 'log.lammps')):\n",
    "    log_variable = dr.get_log_variable_dic_fromlog_variable(parent_folder_path)\n",
    "    log_variable_dic_list_last_to_initial.append(\n",
    "        log_variable\n",
    "    )\n",
    "    folder_path_list_last_to_initial.append(\n",
    "        parent_folder_path\n",
    "    )\n",
    "log_variable_dic_list = log_variable_dic_list_last_to_initial[::-1]\n",
    "if log_variable_dic_list[0]['rst_from'] != '0':\n",
    "    sys.exit('log_variable wrong')\n",
    "\n",
    "n_simu_total = len(log_variable_dic_list)\n",
    "folder_path_list_initial_to_last = folder_path_list_last_to_initial[::-1]\n",
    "\n",
    "# save all global variable get from log_variable to pickle\n",
    "with open(log_variable_folder_path + 'python_global.pckl', 'wb') as f:\n",
    "    pickle.dump([log_variable_dic_list, n_simu_total, log_variable, folder_path_list_initial_to_last], f)\n",
    "with open(log_variable_folder_path + 'python_global.json', 'w') as f:\n",
    "    json.dump([log_variable_dic_list, n_simu_total, log_variable, folder_path_list_initial_to_last], f)"
   ]
  },
  {
   "cell_type": "code",
   "execution_count": 4,
   "metadata": {},
   "outputs": [
    {
     "output_type": "execute_result",
     "data": {
      "text/plain": [
       "2"
      ]
     },
     "metadata": {},
     "execution_count": 4
    }
   ],
   "source": [
    "len(log_variable_dic_list)"
   ]
  },
  {
   "cell_type": "code",
   "execution_count": 2,
   "metadata": {},
   "outputs": [],
   "source": [
    "# get input parameters from lines in log files\n",
    "# create log_variable dictionary from log file\n",
    "# write values of variables to dictionary \n",
    "log_variable_name = 'log.lammps'\n",
    "log_file_path = os.path.join(log_variable_folder_path, log_variable_name)\n",
    "if os.path.isfile(log_file_path):\n",
    "    with open(log_file_path, mode='r') as f:\n",
    "        lines = f.read().strip().split('\\n')\n",
    "else:\n",
    "    sys.exit(\"log file not exist\")\n",
    "\n",
    "lines_start_variable = [line for line in lines if line.startswith(\"variable\")]\n",
    "variable_names = [line.split()[1] for line in lines_start_variable]\n",
    "log_variable = dict.fromkeys(variable_names)\n",
    "# get rst_from\n",
    "rst_from = int(\n",
    "    [line for line in lines_start_variable if line.split()[1] == 'rst_from'][0].split()[3]\n",
    ")\n",
    "\n",
    "# get variable\n",
    "for variable_name in log_variable.keys():\n",
    "    satisfy_lines = [line for line in lines_start_variable if line.split()[1] == variable_name]\n",
    "    \n",
    "    if len(satisfy_lines) != 0:\n",
    "        first_line_words = satisfy_lines[0].split()\n",
    "    \n",
    "        if first_line_words[2] == \"index\" and first_line_words[3][0] != '$':\n",
    "            variable_value = first_line_words[3]\n",
    "\n",
    "        elif first_line_words[2] == \"index\" and first_line_words[3][0] == '$':\n",
    "            second_satisfy_line = satisfy_lines[1]\n",
    "            second_line_words = second_satisfy_line.split()\n",
    "            variable_value = second_line_words[3]\n",
    "\n",
    "        elif first_line_words[2] == \"equal\" or first_line_words[2] == \"string\":\n",
    "            last_satisfy_line = satisfy_lines[-1]\n",
    "            last_line_words = last_satisfy_line.split()\n",
    "            variable_value = last_line_words[3]\n",
    "        \n",
    "        elif first_line_words[2] == \"getenv\":\n",
    "            variable_value = first_line_words[3]\n",
    "\n",
    "        else:\n",
    "            pass\n",
    "        log_variable[variable_name] = variable_value\n",
    "\n",
    "    else:\n",
    "        sys.exit(\"can not find variable {} in log file\".format(variable_name))\n",
    "# write shearwall parameters to log_variable dictionary\n",
    "if \"if_inwall_wall_gran\" in log_variable.keys():\n",
    "    if log_variable[\"if_inwall_wall_gran\"]==\"yes\":\n",
    "        log_variable[\"shearwall\"] = \"yplane\"\n",
    "    else:\n",
    "        for line in lines:\n",
    "            if line.startswith(\"fix\") and line.split()[3] == \"wall/gran\":\n",
    "                if line.split()[1] == \"inwall\": \n",
    "                    log_variable[\"shearwall\"] = line.split()[11]\n",
    "                    break\n",
    "                elif line.split()[1] == \"y_bottom\":\n",
    "                    log_variable[\"shearwall\"] = line.split()[11]\n",
    "                    break\n",
    "                else:\n",
    "                    sys.exit(\"shearwall missed\")\n",
    "else:\n",
    "    for line in lines:\n",
    "        if line.startswith(\"fix\") and line.split()[3] == \"wall/gran\":\n",
    "            if line.split()[1] == \"inwall\": \n",
    "                log_variable[\"shearwall\"] = line.split()[11]\n",
    "                break\n",
    "            elif line.split()[1] == \"y_bottom\":\n",
    "                log_variable[\"shearwall\"] = line.split()[11]\n",
    "                break\n",
    "            else:\n",
    "                sys.exit(\"shearwall missed\")\n",
    "\n",
    "# write chunk_2_3 parameters to log_variable dictionary\n",
    "# select compute line\n",
    "lines_start_compute = [line for line in lines if line.startswith(\"compute\")]\n",
    "# get chunk 23 info\n",
    "satisfy_lines = [line for line in lines_start_compute if line.split()[3] == 'chunk/atom' and line.split()[1] == \"chunk_2_3\"]\n",
    "# get chunk/atom\n",
    "if len(satisfy_lines) != 0:\n",
    "    log_variable[\"chunk/atom 23\"] = [\n",
    "        satisfy_lines[0].split()[1],\n",
    "        satisfy_lines[0].split()[5],\n",
    "        satisfy_lines[0].split()[4],\n",
    "    ]\n",
    "else:\n",
    "    pass"
   ]
  },
  {
   "cell_type": "code",
   "execution_count": 8,
   "metadata": {},
   "outputs": [],
   "source": []
  }
 ]
}