{
 "metadata": {
  "language_info": {
   "codemirror_mode": {
    "name": "ipython",
    "version": 3
   },
   "file_extension": ".py",
   "mimetype": "text/x-python",
   "name": "python",
   "nbconvert_exporter": "python",
   "pygments_lexer": "ipython3",
   "version": "3.7.3-final"
  },
  "orig_nbformat": 2,
  "kernelspec": {
   "name": "python3",
   "display_name": "Python 3.7.3 64-bit ('anaconda3': virtualenv)",
   "metadata": {
    "interpreter": {
     "hash": "014bbb060d5dcd6f172b95fb49fd54994da1b47573c78d9746be25b2deaee267"
    }
   }
  }
 },
 "nbformat": 4,
 "nbformat_minor": 2,
 "cells": [
  {
   "cell_type": "code",
   "execution_count": 6,
   "metadata": {},
   "outputs": [
    {
     "output_type": "error",
     "ename": "KeyboardInterrupt",
     "evalue": "",
     "traceback": [
      "\u001b[0;31m---------------------------------------------------------------------------\u001b[0m",
      "\u001b[0;31mKeyboardInterrupt\u001b[0m                         Traceback (most recent call last)",
      "\u001b[0;32m<ipython-input-6-ea594ea77798>\u001b[0m in \u001b[0;36m<module>\u001b[0;34m\u001b[0m\n\u001b[1;32m     22\u001b[0m \u001b[0mparent_folder_path\u001b[0m \u001b[0;34m=\u001b[0m \u001b[0mos\u001b[0m\u001b[0;34m.\u001b[0m\u001b[0mpath\u001b[0m\u001b[0;34m.\u001b[0m\u001b[0mabspath\u001b[0m\u001b[0;34m(\u001b[0m\u001b[0mos\u001b[0m\u001b[0;34m.\u001b[0m\u001b[0mpath\u001b[0m\u001b[0;34m.\u001b[0m\u001b[0mjoin\u001b[0m\u001b[0;34m(\u001b[0m\u001b[0mlogfile_folder_path\u001b[0m\u001b[0;34m,\u001b[0m \u001b[0mos\u001b[0m\u001b[0;34m.\u001b[0m\u001b[0mpardir\u001b[0m\u001b[0;34m)\u001b[0m\u001b[0;34m)\u001b[0m\u001b[0;34m\u001b[0m\u001b[0;34m\u001b[0m\u001b[0m\n\u001b[1;32m     23\u001b[0m \u001b[0;32mwhile\u001b[0m \u001b[0mlog_variable\u001b[0m\u001b[0;34m[\u001b[0m\u001b[0;34m'rst_from'\u001b[0m\u001b[0;34m]\u001b[0m \u001b[0;34m!=\u001b[0m \u001b[0;34m'0'\u001b[0m \u001b[0;32mand\u001b[0m \u001b[0mos\u001b[0m\u001b[0;34m.\u001b[0m\u001b[0mpath\u001b[0m\u001b[0;34m.\u001b[0m\u001b[0misfile\u001b[0m\u001b[0;34m(\u001b[0m\u001b[0mos\u001b[0m\u001b[0;34m.\u001b[0m\u001b[0mpath\u001b[0m\u001b[0;34m.\u001b[0m\u001b[0mjoin\u001b[0m\u001b[0;34m(\u001b[0m\u001b[0mparent_folder_path\u001b[0m\u001b[0;34m,\u001b[0m \u001b[0;34m'log.lammps'\u001b[0m\u001b[0;34m)\u001b[0m\u001b[0;34m)\u001b[0m\u001b[0;34m:\u001b[0m\u001b[0;34m\u001b[0m\u001b[0;34m\u001b[0m\u001b[0m\n\u001b[0;32m---> 24\u001b[0;31m     \u001b[0mlog_variable\u001b[0m \u001b[0;34m=\u001b[0m \u001b[0mdr\u001b[0m\u001b[0;34m.\u001b[0m\u001b[0mget_log_variable_dic_fromlog_variable\u001b[0m\u001b[0;34m(\u001b[0m\u001b[0mlogfile_folder_path\u001b[0m\u001b[0;34m)\u001b[0m\u001b[0;34m\u001b[0m\u001b[0;34m\u001b[0m\u001b[0m\n\u001b[0m\u001b[1;32m     25\u001b[0m     log_variable_dic_list_last_to_initial.append(\n\u001b[1;32m     26\u001b[0m         \u001b[0mlog_variable\u001b[0m\u001b[0;34m\u001b[0m\u001b[0;34m\u001b[0m\u001b[0m\n",
      "\u001b[0;32m~/simulation/lammps_process/python/d00_utils/read_log.py\u001b[0m in \u001b[0;36mget_log_variable_dic_fromlog_variable\u001b[0;34m(log_file_folder_path, logfilename)\u001b[0m\n\u001b[1;32m     97\u001b[0m     \u001b[0;31m# get variable\u001b[0m\u001b[0;34m\u001b[0m\u001b[0;34m\u001b[0m\u001b[0;34m\u001b[0m\u001b[0m\n\u001b[1;32m     98\u001b[0m     \u001b[0;32mfor\u001b[0m \u001b[0mvariable_name\u001b[0m \u001b[0;32min\u001b[0m \u001b[0mlog_variable\u001b[0m\u001b[0;34m.\u001b[0m\u001b[0mkeys\u001b[0m\u001b[0;34m(\u001b[0m\u001b[0;34m)\u001b[0m\u001b[0;34m:\u001b[0m\u001b[0;34m\u001b[0m\u001b[0;34m\u001b[0m\u001b[0m\n\u001b[0;32m---> 99\u001b[0;31m         \u001b[0msatisfy_lines\u001b[0m \u001b[0;34m=\u001b[0m \u001b[0;34m[\u001b[0m\u001b[0mline\u001b[0m \u001b[0;32mfor\u001b[0m \u001b[0mline\u001b[0m \u001b[0;32min\u001b[0m \u001b[0mlines_start_variable\u001b[0m \u001b[0;32mif\u001b[0m \u001b[0mline\u001b[0m\u001b[0;34m.\u001b[0m\u001b[0msplit\u001b[0m\u001b[0;34m(\u001b[0m\u001b[0;34m)\u001b[0m\u001b[0;34m[\u001b[0m\u001b[0;36m1\u001b[0m\u001b[0;34m]\u001b[0m \u001b[0;34m==\u001b[0m \u001b[0mvariable_name\u001b[0m\u001b[0;34m]\u001b[0m\u001b[0;34m\u001b[0m\u001b[0;34m\u001b[0m\u001b[0m\n\u001b[0m\u001b[1;32m    100\u001b[0m \u001b[0;34m\u001b[0m\u001b[0m\n\u001b[1;32m    101\u001b[0m         \u001b[0;32mif\u001b[0m \u001b[0mlen\u001b[0m\u001b[0;34m(\u001b[0m\u001b[0msatisfy_lines\u001b[0m\u001b[0;34m)\u001b[0m \u001b[0;34m!=\u001b[0m \u001b[0;36m0\u001b[0m\u001b[0;34m:\u001b[0m\u001b[0;34m\u001b[0m\u001b[0;34m\u001b[0m\u001b[0m\n",
      "\u001b[0;32m~/simulation/lammps_process/python/d00_utils/read_log.py\u001b[0m in \u001b[0;36m<listcomp>\u001b[0;34m(.0)\u001b[0m\n\u001b[1;32m     97\u001b[0m     \u001b[0;31m# get variable\u001b[0m\u001b[0;34m\u001b[0m\u001b[0;34m\u001b[0m\u001b[0;34m\u001b[0m\u001b[0m\n\u001b[1;32m     98\u001b[0m     \u001b[0;32mfor\u001b[0m \u001b[0mvariable_name\u001b[0m \u001b[0;32min\u001b[0m \u001b[0mlog_variable\u001b[0m\u001b[0;34m.\u001b[0m\u001b[0mkeys\u001b[0m\u001b[0;34m(\u001b[0m\u001b[0;34m)\u001b[0m\u001b[0;34m:\u001b[0m\u001b[0;34m\u001b[0m\u001b[0;34m\u001b[0m\u001b[0m\n\u001b[0;32m---> 99\u001b[0;31m         \u001b[0msatisfy_lines\u001b[0m \u001b[0;34m=\u001b[0m \u001b[0;34m[\u001b[0m\u001b[0mline\u001b[0m \u001b[0;32mfor\u001b[0m \u001b[0mline\u001b[0m \u001b[0;32min\u001b[0m \u001b[0mlines_start_variable\u001b[0m \u001b[0;32mif\u001b[0m \u001b[0mline\u001b[0m\u001b[0;34m.\u001b[0m\u001b[0msplit\u001b[0m\u001b[0;34m(\u001b[0m\u001b[0;34m)\u001b[0m\u001b[0;34m[\u001b[0m\u001b[0;36m1\u001b[0m\u001b[0;34m]\u001b[0m \u001b[0;34m==\u001b[0m \u001b[0mvariable_name\u001b[0m\u001b[0;34m]\u001b[0m\u001b[0;34m\u001b[0m\u001b[0;34m\u001b[0m\u001b[0m\n\u001b[0m\u001b[1;32m    100\u001b[0m \u001b[0;34m\u001b[0m\u001b[0m\n\u001b[1;32m    101\u001b[0m         \u001b[0;32mif\u001b[0m \u001b[0mlen\u001b[0m\u001b[0;34m(\u001b[0m\u001b[0msatisfy_lines\u001b[0m\u001b[0;34m)\u001b[0m \u001b[0;34m!=\u001b[0m \u001b[0;36m0\u001b[0m\u001b[0;34m:\u001b[0m\u001b[0;34m\u001b[0m\u001b[0;34m\u001b[0m\u001b[0m\n",
      "\u001b[0;31mKeyboardInterrupt\u001b[0m: "
     ]
    }
   ],
   "source": [
    "import pandas as pd\n",
    "import d00_utils.read_log as dr\n",
    "# read log file to lines and\n",
    "# read log file\n",
    "logfile_folder_path = os.path.join(\n",
    "    os.path.expanduser(\"~\"),\n",
    "    'simulation',\n",
    "    'lammps_process',\n",
    "    'data',\n",
    "    '01_raw',\n",
    "    'Link to lmp_run',\n",
    "    'test',\n",
    "    '20200511',\n",
    "    'f_5e6',\n",
    ")\n",
    "logfile_path = os.path.join(logfile_folder_path, \"log.lammps\")\n",
    "dr.get_log_variable_dic_fromlog_variable(logfile_folder_path)\n",
    "# get previous log_variable\n",
    "folder_path_list_last_to_initial = [logfile_folder_path]\n",
    "log_variable = dr.get_log_variable_dic_fromlog_variable(logfile_folder_path)\n",
    "log_variable_dic_list_last_to_initial = [log_variable]\n",
    "parent_folder_path = os.path.abspath(os.path.join(logfile_folder_path, os.pardir))\n",
    "while log_variable['rst_from'] != '0' and os.path.isfile(os.path.join(parent_folder_path, 'log.lammps')):\n",
    "    log_variable = dr.get_log_variable_dic_fromlog_variable(parent_folder_path)\n",
    "    log_variable_dic_list_last_to_initial.append(\n",
    "        log_variable\n",
    "    )\n",
    "    folder_path_list_last_to_initial.append(\n",
    "        parent_folder_path\n",
    "    )\n",
    "    parent_folder_path = os.path.abspath(os.path.join(parent_folder_path, os.pardir))\n",
    "log_variable_dic_list = log_variable_dic_list_last_to_initial[::-1]\n",
    "if log_variable_dic_list[0]['rst_from'] != '0':\n",
    "    sys.exit('log_variable wrong')\n",
    "\n",
    "n_simu_total = len(log_variable_dic_list)\n",
    "folder_path_list_initial_to_last = folder_path_list_last_to_initial[::-1]\n",
    "\n",
    "log_variable_dic_list[0]['rst_from']\n"
   ]
  },
  {
   "cell_type": "code",
   "execution_count": 3,
   "metadata": {},
   "outputs": [
    {
     "output_type": "error",
     "ename": "NameError",
     "evalue": "name 'n_simu_total' is not defined",
     "traceback": [
      "\u001b[0;31m---------------------------------------------------------------------------\u001b[0m",
      "\u001b[0;31mNameError\u001b[0m                                 Traceback (most recent call last)",
      "\u001b[0;32m<ipython-input-3-00e297cbbfde>\u001b[0m in \u001b[0;36m<module>\u001b[0;34m\u001b[0m\n\u001b[0;32m----> 1\u001b[0;31m \u001b[0mn_simu_total\u001b[0m\u001b[0;34m\u001b[0m\u001b[0;34m\u001b[0m\u001b[0m\n\u001b[0m",
      "\u001b[0;31mNameError\u001b[0m: name 'n_simu_total' is not defined"
     ]
    }
   ],
   "source": [
    "n_simu_total"
   ]
  },
  {
   "cell_type": "code",
   "execution_count": null,
   "metadata": {},
   "outputs": [],
   "source": []
  },
  {
   "source": [
    "[logdiclist, n_simu_total, logfile, folder_path_list_initial_to_last] = dr.get_dumped_variable(logfile_folder_path, '/home/ic6413/simulation/lammps_process/data/02_intermediate/test.pickle')"
   ],
   "cell_type": "code",
   "metadata": {},
   "execution_count": null,
   "outputs": []
  },
  {
   "cell_type": "code",
   "execution_count": null,
   "metadata": {},
   "outputs": [],
   "source": [
    "# calculate previous time for every log\n",
    "restart_time = 0\n",
    "for n in range(n_simu_total):\n",
    "    if n == 0:\n",
    "        logdiclist[n][\"previous_time\"] = restart_time\n",
    "    else:\n",
    "        for n_line1, line in enumerate(line_log_list[n-1]):\n",
    "            if len(line) >= 2:\n",
    "                if line.split()[0]==\"Step\" and line.split()[1]==\"Time\":\n",
    "                    break\n",
    "        \n",
    "        for n_line2, line in enumerate(line_log_list[n-1]):\n",
    "            if len(line) >= 2:\n",
    "                if line.split()[0]==\"Loop\" and line.split()[1]==\"time\":           \n",
    "                    break\n",
    "\n",
    "        for n_line, line in enumerate(line_log_list[n-1]):\n",
    "            if n_line>n_line1 and n_line<n_line2:\n",
    "                if line.split()[0]==str(logdiclist[n]['rst_from']):\n",
    "                    restart_time += float(line.split()[1])\n",
    "        logdiclist[n][\"previous_time\"] = restart_time\n",
    "\n",
    "# count the time no rotation\n",
    "rotate_start_time = 0\n",
    "for i in range(n_simu_total):\n",
    "    if int(logdiclist[i][\"rst_from\"]) == 0:\n",
    "        previous_time_step = 0\n",
    "    else:\n",
    "        previous_time_step = float(logdiclist[i-1][\"ts\"])\n",
    "    rotate_start_time += previous_time_step*int(logdiclist[i][\"rst_from\"])\n",
    "    if logdiclist[i][\"ifrotate\"] == \"yes\" and float(logdiclist[i][\"Sa\"]) != 0:\n",
    "        logdiclist[i][\"rotate_start_time\"] = rotate_start_time\n",
    "        break\n",
    "    else:\n",
    "        logdiclist[i][\"rotate_start_time\"] = None # have not rotate\n",
    "\n",
    "for i in range(n_simu_total):    \n",
    "    logdiclist[i][\"rotate_start_time\"] = rotate_start_time"
   ]
  }
 ]
}