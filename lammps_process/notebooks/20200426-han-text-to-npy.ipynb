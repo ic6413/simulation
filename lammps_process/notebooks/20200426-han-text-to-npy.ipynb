{
 "metadata": {
  "language_info": {
   "codemirror_mode": {
    "name": "ipython",
    "version": 3
   },
   "file_extension": ".py",
   "mimetype": "text/x-python",
   "name": "python",
   "nbconvert_exporter": "python",
   "pygments_lexer": "ipython3",
   "version": "3.7.3-final"
  },
  "orig_nbformat": 2,
  "kernelspec": {
   "name": "python3",
   "display_name": "Python 3.7.3 64-bit ('anaconda3': virtualenv)",
   "metadata": {
    "interpreter": {
     "hash": "014bbb060d5dcd6f172b95fb49fd54994da1b47573c78d9746be25b2deaee267"
    }
   }
  }
 },
 "nbformat": 4,
 "nbformat_minor": 2,
 "cells": [
  {
   "cell_type": "code",
   "execution_count": 5,
   "metadata": {},
   "outputs": [],
   "source": [
    "import pandas as pd\n",
    "import d00_utils.read_log as dr\n",
    "# read log file to lines and\n",
    "# read log file\n",
    "logfile_folder_path = os.path.join(\n",
    "    os.path.expanduser(\"~\"),\n",
    "    'simulation',\n",
    "    'lammps_process',\n",
    "    'data',\n",
    "    '01_raw',\n",
    "    'Link to lmp_run',\n",
    "    'test',\n",
    "    '20200511',\n",
    "    'f_5e6',\n",
    ")\n",
    "inputpicklepath = os.path.join(logfile_folder_path, 'python_global.pickle')\n",
    "(log_variable_dic_list, n_simu_total, log_variable, folder_path_list_initial_to_last) = dr.get_dumped_variable(logfile_folder_path, inputpicklepath)\n"
   ]
  },
  {
   "cell_type": "code",
   "execution_count": null,
   "metadata": {},
   "outputs": [],
   "source": []
  }
 ]
}