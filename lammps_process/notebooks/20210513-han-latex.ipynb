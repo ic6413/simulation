{
 "metadata": {
  "language_info": {
   "codemirror_mode": {
    "name": "ipython",
    "version": 3
   },
   "file_extension": ".py",
   "mimetype": "text/x-python",
   "name": "python",
   "nbconvert_exporter": "python",
   "pygments_lexer": "ipython3",
   "version": "3.7.3-final"
  },
  "orig_nbformat": 2,
  "kernelspec": {
   "name": "python3",
   "display_name": "Python 3.7.3 64-bit ('anaconda3': virtualenv)",
   "metadata": {
    "interpreter": {
     "hash": "8a74c9f5d1a7d5e832d2c6acfdc5c63dfb056688d1a1666e10503c010e18f065"
    }
   }
  }
 },
 "nbformat": 4,
 "nbformat_minor": 2,
 "cells": [
  {
   "cell_type": "code",
   "execution_count": 1,
   "metadata": {},
   "outputs": [],
   "source": [
    "import numpy as np\n",
    "import subprocess\n",
    "from pylatex import Document, Section, Subsection, Figure, Package\n",
    "from pylatex.utils import italic\n",
    "from pylatex.utils import NoEscape\n",
    "import os\n",
    "import os.path\n",
    "import re\n",
    "import sys\n",
    "import d00_utils.input_text as di\n",
    "import d00_utils.read_log as dr\n",
    "import d00_utils.latex as dl\n",
    "lmp_folder_path = di.lmp_folder_path\n",
    "\n",
    "# pickle variable\n",
    "(log_variable_dic_list, n_simu_total, log_variable, folder_path_list_initial_to_last) = dr.dump_variable(lmp_folder_path)\n"
   ]
  },
  {
   "cell_type": "code",
   "execution_count": 2,
   "metadata": {},
   "outputs": [],
   "source": [
    "def natural_sort(l): \n",
    "    convert = lambda text: int(text) if text.isdigit() else text.lower() \n",
    "    alphanum_key = lambda key: [ convert(c) for c in re.split('([0-9]+)', key) ]\n",
    "    return sorted(l, key = alphanum_key)"
   ]
  },
  {
   "cell_type": "code",
   "execution_count": 9,
   "metadata": {
    "tags": [
     "outputPrepend"
    ]
   },
   "outputs": [
    {
     "output_type": "stream",
     "name": "stdout",
     "text": [
      "\n<to be read again> \n                   \\global \nl.814 \\end{figure}\n                  \n! Undefined control sequence.\n\\@addmarginpar ...marbox \\z@ \\global \\dp \\@marbox \n                                                  \\z@ \\kern -\\@pagedp \\noint...\nl.814 \\end{figure}\n                  \n! Missing number, treated as zero.\n<to be read again> \n                   \\kern \nl.814 \\end{figure}\n                  \n! Illegal unit of measure (pt inserted).\n<to be read again> \n                   \\kern \nl.814 \\end{figure}\n                  \n! Undefined control sequence.\n\\@addmarginpar ...arginparwidth \\fi \\box \\@marbox \n                                                  \\hss }\\nointerlineskip \\hb...\nl.814 \\end{figure}\n                  \n! Missing number, treated as zero.\n<to be read again> \n                   \\hss \nl.814 \\end{figure}\n                  \n\n! LaTeX Error: Too many unprocessed floats.\n\nSee the LaTeX manual or LaTeX Companion for explanation.\nType  H <return>  for immediate help.\n ...                                              \n                                                  \nl.819 \\begin{figure}[h!]\n                        %\n! Undefined control sequence.\n\\@xfloat ...@fltovf \\fi \\global \\setbox \\@currbox \n                                                  \\color@vbox \\normalcolor \\...\nl.819 \\begin{figure}[h!]\n                        %\n! Missing number, treated as zero.\n<to be read again> \n                   \\color@vbox \nl.819 \\begin{figure}[h!]\n                        %\n\n! LaTeX Error: File `e' not found.\n\nSee the LaTeX manual or LaTeX Companion for explanation.\nType  H <return>  for immediate help.\n ...                                              \n                                                  \nl.821 \\includegraphics[width=0.8\\textwidth]{e}\n                                              %\n! Undefined control sequence.\n\\@largefloatcheck ->\\ifdim \\ht \\@currbox \n                                         >\\textheight \\@tempdima -\\textheigh...\nl.823 \\end{figure}\n                  \n! Missing number, treated as zero.\n<to be read again> \n                   >\nl.823 \\end{figure}\n                  \n! Undefined control sequence.\n<argument> \\@currbox \n                     \nl.823 \\end{figure}\n                  \n! Argument of \\@xnext has an extra }.\n<inserted text> \n                \\par \nl.823 \\end{figure}\n                  \nRunaway argument?\n\\@currbox \\@currlist \\ifnum \\count \\@currbox >\\z@ \\advance \\@pageht \\@pagedp \\E\nTC.\n! Paragraph ended before \\@xnext was complete.\n<to be read again> \n                   \\par \nl.823 \\end{figure}\n                  \n! Extra \\else.\n\\end@float ...pdima \\penalty \\@floatpenalty \\else \n                                                  \\vadjust {\\penalty -\\@Miv ...\nl.823 \\end{figure}\n                  \n! You can't use `\\vadjust' in vertical mode.\n\\end@float ...nalty \\@floatpenalty \\else \\vadjust \n                                                  {\\penalty -\\@Miv \\vbox {}\\...\nl.823 \\end{figure}\n                  \n! Argument of \\@xnext has an extra }.\n<inserted text> \n                \\par \nl.823 \\end{figure}\n                  \nRunaway argument?\n\\@currbox \\@currlist \\ifnum \\count \\@currbox >\\z@ \\advance \\@pageht \\@pagedp \\E\nTC.\n! Paragraph ended before \\@xnext was complete.\n<to be read again> \n                   \\par \nl.823 \\end{figure}\n                  \n\n! LaTeX Error: Too many unprocessed floats.\n\nSee the LaTeX manual or LaTeX Companion for explanation.\nType  H <return>  for immediate help.\n ...                                              \n                                                  \nl.828 \\begin{figure}[h!]\n                        %\n! Undefined control sequence.\n\\@xfloat ...@fltovf \\fi \\global \\setbox \\@currbox \n                                                  \\color@vbox \\normalcolor \\...\nl.828 \\begin{figure}[h!]\n                        %\n! Missing number, treated as zero.\n<to be read again> \n                   \\color@vbox \nl.828 \\begin{figure}[h!]\n                        %\n\n! LaTeX Error: File `_' not found.\n\nSee the LaTeX manual or LaTeX Companion for explanation.\nType  H <return>  for immediate help.\n ...                                              \n                                                  \nl.830 \\includegraphics[width=0.8\\textwidth]{_}\n                                              %\n! Undefined control sequence.\n\\@largefloatcheck ->\\ifdim \\ht \\@currbox \n                                         >\\textheight \\@tempdima -\\textheigh...\nl.832 \\end{figure}\n                  \n! Missing number, treated as zero.\n<to be read again> \n                   >\nl.832 \\end{figure}\n                  \n! Undefined control sequence.\n<argument> \\@currbox \n                     \nl.832 \\end{figure}\n                  \n! Missing number, treated as zero.\n<to be read again> \n                   \\@elt \nl.832 \\end{figure}\n                  \n! Missing = inserted for \\ifnum.\n<to be read again> \n                   \\@elt \nl.832 \\end{figure}\n                  \n! Missing number, treated as zero.\n<to be read again> \n                   \\@elt \nl.832 \\end{figure}\n                  \n\n! LaTeX Error: This may be a LaTeX bug.\n\nSee the LaTeX manual or LaTeX Companion for explanation.\nType  H <return>  for immediate help.\n ...                                              \n                                                  \nl.832 \\end{figure}\n                  \n! Undefined control sequence.\n\\@addmarginpar ...advance \\@tempdima \\ht \\@marbox \n                                                  \\ifdim \\@tempdima >\\z@ \\@l...\nl.832 \\end{figure}\n                  \n! Bad register code (-2676964).\n\\@addmarginpar ...e \\space moved}\\else \\@tempdima \n                                                  \\z@ \\fi \\global \\@mparbott...\nl.832 \\end{figure}\n                  \n! Missing number, treated as zero.\n<to be read again> \n                   \\global \nl.832 \\end{figure}\n                  \n! Illegal unit of measure (pt inserted).\n<to be read again> \n                   \\global \nl.832 \\end{figure}\n                  \n! Undefined control sequence.\n\\@addmarginpar ...vance \\@mparbottom \\dp \\@marbox \n                                                  \\global \\advance \\@mparbot...\nl.832 \\end{figure}\n                  \n! Missing number, treated as zero.\n<to be read again> \n                   \\global \nl.832 \\end{figure}\n                  \n! Undefined control sequence.\n\\@addmarginpar ...dvance \\@tempdima -\\ht \\@marbox \n                                                  \\global \\setbox \\@marbox \\...\nl.832 \\end{figure}\n                  \n! Missing number, treated as zero.\n<to be read again> \n                   \\global \nl.832 \\end{figure}\n                  \n! Undefined control sequence.\n\\@addmarginpar ...marbox \\global \\setbox \\@marbox \n                                                  \\vbox {\\vskip \\@tempdima \\...\nl.832 \\end{figure}\n                  \n! Missing number, treated as zero.\n<to be read again> \n                   \\vbox \nl.832 \\end{figure}\n                  \n! Undefined control sequence.\n\\@addmarginpar ...\\vskip \\@tempdima \\box \\@marbox \n                                                  }\\global \\ht \\@marbox \\z@ ...\nl.832 \\end{figure}\n                  \n! Missing number, treated as zero.\n<to be read again> \n                   }\nl.832 \\end{figure}\n                  \n! Undefined control sequence.\n\\@addmarginpar ... \\@marbox }\\global \\ht \\@marbox \n                                                  \\z@ \\global \\dp \\@marbox \\...\nl.832 \\end{figure}\n                  \n! Missing number, treated as zero.\n<to be read again> \n                   \\global \nl.832 \\end{figure}\n                  \n! Illegal unit of measure (pt inserted).\n<to be read again> \n                   \\global \nl.832 \\end{figure}\n                  \n! Undefined control sequence.\n\\@addmarginpar ...marbox \\z@ \\global \\dp \\@marbox \n                                                  \\z@ \\kern -\\@pagedp \\noint...\nl.832 \\end{figure}\n                  \n! Missing number, treated as zero.\n<to be read again> \n                   \\kern \nl.832 \\end{figure}\n                  \n! Illegal unit of measure (pt inserted).\n<to be read again> \n                   \\kern \nl.832 \\end{figure}\n                  \n! Undefined control sequence.\n\\@addmarginpar ...arginparwidth \\fi \\box \\@marbox \n                                                  \\hss }\\nointerlineskip \\hb...\nl.832 \\end{figure}\n                  \n! Missing number, treated as zero.\n<to be read again> \n                   \\hss \nl.832 \\end{figure}\n                  \n\n! LaTeX Error: Too many unprocessed floats.\n\nSee the LaTeX manual or LaTeX Companion for explanation.\nType  H <return>  for immediate help.\n ...                                              \n                                                  \nl.837 \\begin{figure}[h!]\n                        %\n! Undefined control sequence.\n\\@xfloat ...@fltovf \\fi \\global \\setbox \\@currbox \n                                                  \\color@vbox \\normalcolor \\...\nl.837 \\begin{figure}[h!]\n                        %\n! Missing number, treated as zero.\n<to be read again> \n                   \\color@vbox \nl.837 \\begin{figure}[h!]\n                        %\n\n! LaTeX Error: File `1' not found.\n\nSee the LaTeX manual or LaTeX Companion for explanation.\nType  H <return>  for immediate help.\n ...                                              \n                                                  \nl.839 \\includegraphics[width=0.8\\textwidth]{1}\n                                              %\n! Undefined control sequence.\n\\@largefloatcheck ->\\ifdim \\ht \\@currbox \n                                         >\\textheight \\@tempdima -\\textheigh...\nl.841 \\end{figure}\n                  \n! Missing number, treated as zero.\n<to be read again> \n                   >\nl.841 \\end{figure}\n                  \n! Undefined control sequence.\n<argument> \\@currbox \n                     \nl.841 \\end{figure}\n                  \n! Argument of \\@xnext has an extra }.\n<inserted text> \n                \\par \nl.841 \\end{figure}\n                  \nRunaway argument?\n\\@currbox \\@currlist \\ifnum \\count \\@currbox >\\z@ \\advance \\@pageht \\@pagedp \\E\nTC.\n! Paragraph ended before \\@xnext was complete.\n<to be read again> \n                   \\par \nl.841 \\end{figure}\n                  \n! Extra \\else.\n\\end@float ...pdima \\penalty \\@floatpenalty \\else \n                                                  \\vadjust {\\penalty -\\@Miv ...\nl.841 \\end{figure}\n                  \n! You can't use `\\vadjust' in vertical mode.\n\\end@float ...nalty \\@floatpenalty \\else \\vadjust \n                                                  {\\penalty -\\@Miv \\vbox {}\\...\nl.841 \\end{figure}\n                  \n! Argument of \\@xnext has an extra }.\n<inserted text> \n                \\par \nl.841 \\end{figure}\n                  \nRunaway argument?\n\\@currbox \\@currlist \\ifnum \\count \\@currbox >\\z@ \\advance \\@pageht \\@pagedp \\E\nTC.\n! Paragraph ended before \\@xnext was complete.\n<to be read again> \n                   \\par \nl.841 \\end{figure}\n                  \n[1{/var/lib/texmf/fonts/map/pdftex/updmap/pdftex.map}]\n\nLaTeX Warning: Text page 2 contains only floats.\n\n[2]\n\nLaTeX Warning: Text page 3 contains only floats.\n\n[3]\n\nPackage lastpage Warning: Rerun to get the references right on input line 847.\n\n\nAED: lastpage setting LastPage\n\n! LaTeX Error: Float(s) lost.\n\nSee the LaTeX manual or LaTeX Companion for explanation.\nType  H <return>  for immediate help.\n ...                                              \n                                                  \nl.847 \\end{document}\n                    \n[4] (./test3.aux)\n\nLaTeX Warning: Label(s) may have changed. Rerun to get cross-references right.\n\n )\n(\\end occurred when \\ifnum on line 841 was incomplete)\n(\\end occurred when \\ifnum on line 841 was incomplete)\n(\\end occurred when \\ifx on line 841 was incomplete)\n(\\end occurred when \\ifnum on line 841 was incomplete)\n(\\end occurred when \\ifnum on line 841 was incomplete)\n(\\end occurred when \\ifnum on line 841 was incomplete)\n(\\end occurred when \\ifnum on line 841 was incomplete)\n(\\end occurred when \\ifnum on line 841 was incomplete)\n(\\end occurred when \\ifnum on line 823 was incomplete)\n(\\end occurred when \\ifnum on line 823 was incomplete)\n(\\end occurred when \\ifx on line 823 was incomplete)\n(\\end occurred when \\ifnum on line 823 was incomplete)\n(\\end occurred when \\ifnum on line 823 was incomplete)\n(\\end occurred when \\ifnum on line 823 was incomplete)\n(\\end occurred when \\ifnum on line 823 was incomplete)\n(\\end occurred when \\ifnum on line 823 was incomplete)\n(\\end occurred when \\ifnum on line 805 was incomplete)\n(\\end occurred when \\ifnum on line 805 was incomplete)\n(\\end occurred when \\ifx on line 805 was incomplete)\n(\\end occurred when \\ifnum on line 805 was incomplete)\n(\\end occurred when \\ifnum on line 805 was incomplete)\n(\\end occurred when \\ifnum on line 805 was incomplete)\n(\\end occurred when \\ifnum on line 805 was incomplete)\n(\\end occurred when \\ifnum on line 805 was incomplete)\n(\\end occurred when \\ifnum on line 787 was incomplete)\n(\\end occurred when \\ifnum on line 787 was incomplete)\n(\\end occurred when \\ifnum on line 787 was incomplete)\n(\\end occurred when \\ifnum on line 787 was incomplete)\n(\\end occurred when \\ifnum on line 769 was incomplete)\n(\\end occurred when \\ifnum on line 769 was incomplete)\n(\\end occurred when \\ifx on line 769 was incomplete)\n(\\end occurred when \\ifnum on line 769 was incomplete)\n(\\end occurred when \\ifnum on line 769 was incomplete)\n(\\end occurred when \\ifnum on line 769 was incomplete)\n(\\end occurred when \\ifnum on line 769 was incomplete)\n(\\end occurred when \\ifnum on line 769 was incomplete)\n(\\end occurred when \\ifnum on line 751 was incomplete)\n(\\end occurred when \\ifnum on line 751 was incomplete)\n(\\end occurred when \\ifx on line 751 was incomplete)\n(\\end occurred when \\ifnum on line 751 was incomplete)\n(\\end occurred when \\ifnum on line 751 was incomplete)\n(\\end occurred when \\ifnum on line 751 was incomplete)\n(\\end occurred when \\ifnum on line 751 was incomplete)\n(\\end occurred when \\ifnum on line 751 was incomplete)\n(\\end occurred when \\ifnum on line 733 was incomplete)\n(\\end occurred when \\ifnum on line 733 was incomplete)\n(\\end occurred when \\ifx on line 733 was incomplete)\n(\\end occurred when \\ifnum on line 733 was incomplete)\n(\\end occurred when \\ifnum on line 733 was incomplete)\n(\\end occurred when \\ifnum on line 733 was incomplete)\n(\\end occurred when \\ifnum on line 733 was incomplete)\n(\\end occurred when \\ifnum on line 733 was incomplete)\n(\\end occurred when \\ifnum on line 715 was incomplete)\n(\\end occurred when \\ifnum on line 715 was incomplete)\n(\\end occurred when \\ifx on line 715 was incomplete)\n(\\end occurred when \\ifnum on line 715 was incomplete)\n(\\end occurred when \\ifnum on line 715 was incomplete)\n(\\end occurred when \\ifnum on line 715 was incomplete)\n(\\end occurred when \\ifnum on line 715 was incomplete)\n(\\end occurred when \\ifnum on line 715 was incomplete)\n(\\end occurred when \\ifnum on line 697 was incomplete)\n(\\end occurred when \\ifnum on line 697 was incomplete)\n(\\end occurred when \\ifx on line 697 was incomplete)\n(\\end occurred when \\ifnum on line 697 was incomplete)\n(\\end occurred when \\ifnum on line 697 was incomplete)\n(\\end occurred when \\ifnum on line 697 was incomplete)\n(\\end occurred when \\ifnum on line 697 was incomplete)\n(\\end occurred when \\ifnum on line 697 was incomplete)\n(\\end occurred when \\ifnum on line 679 was incomplete)\n(\\end occurred when \\ifnum on line 679 was incomplete)\n(\\end occurred when \\ifx on line 679 was incomplete)\n(\\end occurred when \\ifnum on line 679 was incomplete)\n(\\end occurred when \\ifnum on line 679 was incomplete)\n(\\end occurred when \\ifnum on line 679 was incomplete)\n(\\end occurred when \\ifnum on line 679 was incomplete)\n(\\end occurred when \\ifnum on line 679 was incomplete)\n(\\end occurred when \\ifnum on line 661 was incomplete)\n(\\end occurred when \\ifnum on line 661 was incomplete)\n(\\end occurred when \\ifx on line 661 was incomplete)\n(\\end occurred when \\ifnum on line 661 was incomplete)\n(\\end occurred when \\ifnum on line 661 was incomplete)\n(\\end occurred when \\ifnum on line 661 was incomplete)\n(\\end occurred when \\ifnum on line 661 was incomplete)\n(\\end occurred when \\ifnum on line 661 was incomplete)\n(\\end occurred when \\ifnum on line 643 was incomplete)\n(\\end occurred when \\ifnum on line 643 was incomplete)\n(\\end occurred when \\ifx on line 643 was incomplete)\n(\\end occurred when \\ifnum on line 643 was incomplete)\n(\\end occurred when \\ifnum on line 643 was incomplete)\n(\\end occurred when \\ifnum on line 643 was incomplete)\n(\\end occurred when \\ifnum on line 643 was incomplete)\n(\\end occurred when \\ifnum on line 643 was incomplete)\n(\\end occurred when \\ifnum on line 625 was incomplete)\n(\\end occurred when \\ifnum on line 625 was incomplete)\n(\\end occurred when \\ifx on line 625 was incomplete)\n(\\end occurred when \\ifnum on line 625 was incomplete)\n(\\end occurred when \\ifnum on line 625 was incomplete)\n(\\end occurred when \\ifnum on line 625 was incomplete)\n(\\end occurred when \\ifnum on line 625 was incomplete)\n(\\end occurred when \\ifnum on line 625 was incomplete)\n(\\end occurred when \\ifnum on line 607 was incomplete)\n(\\end occurred when \\ifnum on line 607 was incomplete)\n(\\end occurred when \\ifx on line 607 was incomplete)\n(\\end occurred when \\ifnum on line 607 was incomplete)\n(\\end occurred when \\ifnum on line 607 was incomplete)\n(\\end occurred when \\ifnum on line 607 was incomplete)\n(\\end occurred when \\ifnum on line 607 was incomplete)\n(\\end occurred when \\ifnum on line 607 was incomplete)\n(\\end occurred when \\ifnum on line 589 was incomplete)\n(\\end occurred when \\ifnum on line 589 was incomplete)\n(\\end occurred when \\ifx on line 589 was incomplete)\n(\\end occurred when \\ifnum on line 589 was incomplete)\n(\\end occurred when \\ifnum on line 589 was incomplete)\n(\\end occurred when \\ifnum on line 589 was incomplete)\n(\\end occurred when \\ifnum on line 589 was incomplete)\n(\\end occurred when \\ifnum on line 589 was incomplete)\n(\\end occurred when \\ifnum on line 571 was incomplete)\n(\\end occurred when \\ifnum on line 571 was incomplete)\n(\\end occurred when \\ifx on line 571 was incomplete)\n(\\end occurred when \\ifnum on line 571 was incomplete)\n(\\end occurred when \\ifnum on line 571 was incomplete)\n(\\end occurred when \\ifnum on line 571 was incomplete)\n(\\end occurred when \\ifnum on line 571 was incomplete)\n(\\end occurred when \\ifnum on line 571 was incomplete)\n(\\end occurred when \\ifnum on line 553 was incomplete)\n(\\end occurred when \\ifnum on line 553 was incomplete)\n(\\end occurred when \\ifx on line 553 was incomplete)\n(\\end occurred when \\ifnum on line 553 was incomplete)\n(\\end occurred when \\ifnum on line 553 was incomplete)\n(\\end occurred when \\ifnum on line 553 was incomplete)\n(\\end occurred when \\ifnum on line 553 was incomplete)\n(\\end occurred when \\ifnum on line 553 was incomplete)\n(\\end occurred when \\ifnum on line 535 was incomplete)\n(\\end occurred when \\ifnum on line 535 was incomplete)\n(\\end occurred when \\ifx on line 535 was incomplete)\n(\\end occurred when \\ifnum on line 535 was incomplete)\n(\\end occurred when \\ifnum on line 535 was incomplete)\n(\\end occurred when \\ifnum on line 535 was incomplete)\n(\\end occurred when \\ifnum on line 535 was incomplete)\n(\\end occurred when \\ifnum on line 535 was incomplete)\n(\\end occurred when \\ifnum on line 517 was incomplete)\n(\\end occurred when \\ifnum on line 517 was incomplete)\n(\\end occurred when \\ifx on line 517 was incomplete)\n(\\end occurred when \\ifnum on line 517 was incomplete)\n(\\end occurred when \\ifnum on line 517 was incomplete)\n(\\end occurred when \\ifnum on line 517 was incomplete)\n(\\end occurred when \\ifnum on line 517 was incomplete)\n(\\end occurred when \\ifnum on line 517 was incomplete)\n(see the transcript file for additional information){/usr/share/texmf/fonts/enc\n/dvips/lm/lm-ec.enc}</usr/share/texmf/fonts/type1/public/lm/lmbx12.pfb></usr/sh\nare/texmf/fonts/type1/public/lm/lmr10.pfb>\nOutput written on test3.pdf (6 pages, 52952 bytes).\nTranscript written on test3.log.\n\n"
     ]
    },
    {
     "output_type": "error",
     "ename": "CalledProcessError",
     "evalue": "Command '['pdflatex', '--interaction=nonstopmode', 'test3.tex']' returned non-zero exit status 1.",
     "traceback": [
      "\u001b[0;31m---------------------------------------------------------------------------\u001b[0m",
      "\u001b[0;31mCalledProcessError\u001b[0m                        Traceback (most recent call last)",
      "\u001b[0;32m<ipython-input-9-78a653082ad4>\u001b[0m in \u001b[0;36m<module>\u001b[0;34m\u001b[0m\n\u001b[1;32m     25\u001b[0m \u001b[0;34m\u001b[0m\u001b[0m\n\u001b[1;32m     26\u001b[0m \u001b[0;34m\u001b[0m\u001b[0m\n\u001b[0;32m---> 27\u001b[0;31m \u001b[0mdoc\u001b[0m\u001b[0;34m.\u001b[0m\u001b[0mgenerate_pdf\u001b[0m\u001b[0;34m(\u001b[0m\u001b[0mclean_tex\u001b[0m\u001b[0;34m=\u001b[0m\u001b[0;32mFalse\u001b[0m\u001b[0;34m)\u001b[0m\u001b[0;34m\u001b[0m\u001b[0;34m\u001b[0m\u001b[0m\n\u001b[0m",
      "\u001b[0;32m~/anaconda3/lib/python3.7/site-packages/pylatex/document.py\u001b[0m in \u001b[0;36mgenerate_pdf\u001b[0;34m(self, filepath, clean, clean_tex, compiler, compiler_args, silent)\u001b[0m\n\u001b[1;32m    231\u001b[0m             \u001b[0;32mtry\u001b[0m\u001b[0;34m:\u001b[0m\u001b[0;34m\u001b[0m\u001b[0;34m\u001b[0m\u001b[0m\n\u001b[1;32m    232\u001b[0m                 output = subprocess.check_output(command,\n\u001b[0;32m--> 233\u001b[0;31m                                                  stderr=subprocess.STDOUT)\n\u001b[0m\u001b[1;32m    234\u001b[0m             \u001b[0;32mexcept\u001b[0m \u001b[0;34m(\u001b[0m\u001b[0mOSError\u001b[0m\u001b[0;34m,\u001b[0m \u001b[0mIOError\u001b[0m\u001b[0;34m)\u001b[0m \u001b[0;32mas\u001b[0m \u001b[0me\u001b[0m\u001b[0;34m:\u001b[0m\u001b[0;34m\u001b[0m\u001b[0;34m\u001b[0m\u001b[0m\n\u001b[1;32m    235\u001b[0m                 \u001b[0;31m# Use FileNotFoundError when python 2 is dropped\u001b[0m\u001b[0;34m\u001b[0m\u001b[0;34m\u001b[0m\u001b[0;34m\u001b[0m\u001b[0m\n",
      "\u001b[0;32m~/anaconda3/lib/python3.7/subprocess.py\u001b[0m in \u001b[0;36mcheck_output\u001b[0;34m(timeout, *popenargs, **kwargs)\u001b[0m\n\u001b[1;32m    393\u001b[0m \u001b[0;34m\u001b[0m\u001b[0m\n\u001b[1;32m    394\u001b[0m     return run(*popenargs, stdout=PIPE, timeout=timeout, check=True,\n\u001b[0;32m--> 395\u001b[0;31m                **kwargs).stdout\n\u001b[0m\u001b[1;32m    396\u001b[0m \u001b[0;34m\u001b[0m\u001b[0m\n\u001b[1;32m    397\u001b[0m \u001b[0;34m\u001b[0m\u001b[0m\n",
      "\u001b[0;32m~/anaconda3/lib/python3.7/subprocess.py\u001b[0m in \u001b[0;36mrun\u001b[0;34m(input, capture_output, timeout, check, *popenargs, **kwargs)\u001b[0m\n\u001b[1;32m    485\u001b[0m         \u001b[0;32mif\u001b[0m \u001b[0mcheck\u001b[0m \u001b[0;32mand\u001b[0m \u001b[0mretcode\u001b[0m\u001b[0;34m:\u001b[0m\u001b[0;34m\u001b[0m\u001b[0;34m\u001b[0m\u001b[0m\n\u001b[1;32m    486\u001b[0m             raise CalledProcessError(retcode, process.args,\n\u001b[0;32m--> 487\u001b[0;31m                                      output=stdout, stderr=stderr)\n\u001b[0m\u001b[1;32m    488\u001b[0m     \u001b[0;32mreturn\u001b[0m \u001b[0mCompletedProcess\u001b[0m\u001b[0;34m(\u001b[0m\u001b[0mprocess\u001b[0m\u001b[0;34m.\u001b[0m\u001b[0margs\u001b[0m\u001b[0;34m,\u001b[0m \u001b[0mretcode\u001b[0m\u001b[0;34m,\u001b[0m \u001b[0mstdout\u001b[0m\u001b[0;34m,\u001b[0m \u001b[0mstderr\u001b[0m\u001b[0;34m)\u001b[0m\u001b[0;34m\u001b[0m\u001b[0;34m\u001b[0m\u001b[0m\n\u001b[1;32m    489\u001b[0m \u001b[0;34m\u001b[0m\u001b[0m\n",
      "\u001b[0;31mCalledProcessError\u001b[0m: Command '['pdflatex', '--interaction=nonstopmode', 'test3.tex']' returned non-zero exit status 1."
     ]
    }
   ],
   "source": [
    "pic_path_list = dl.plots_path_list(log_variable_dic_list)\n",
    "\n",
    "os.makedirs(di.latex_folder_path(log_variable_dic_list), exist_ok=True)\n",
    "doc = Document(default_filepath='test3')\n",
    "doc.packages.append(Package('placeins', \"section\"))\n",
    "\n",
    "#breakpoint()\n",
    "\n",
    "with doc.create(Section(\"Simulation Plot\")):\n",
    "    doc.append(\"Width= \" + str(log_variable[\"width_wall_dp_unit\"]) + \" diameter\")\n",
    "    doc.append(\"\\nHeight= \" + str(log_variable[\"z_length_create_dp_unit\"]) + \" diameter\")\n",
    "    doc.append(\"\\nPeriodic length in shear direction = \" + str(log_variable[\"x_period_dp_unit\"]) + \" diameter\")\n",
    "    doc.append(\"\\nSavage_number = \" + str(log_variable[\"Sa\"]))\n",
    "    doc.append(\"\\nV_wall = \" + str(float(log_variable[\"in_velocity\"])/float(log_variable[\"dp\"])) + \" diameter/second\")\n",
    "    \n",
    "        \n",
    "    for pic_path in pic_path_list[0]:\n",
    "        with doc.create(Figure(position='h!')) as pic:\n",
    "            #breakpoint()\n",
    "            pic.add_image(pic_path)\n",
    "            pic.add_caption(NoEscape(\"\\label{fig:epsart}\"))\n",
    "    \n",
    "    doc.append(NoEscape(\"\\\\FloatBarrier\"))\n",
    "    \n",
    "\n",
    "\n",
    "doc.generate_pdf(clean_tex=False)"
   ]
  },
  {
   "cell_type": "code",
   "execution_count": 7,
   "metadata": {},
   "outputs": [
    {
     "output_type": "execute_result",
     "data": {
      "text/plain": [
       "['/home/ic6413/simulation/lammps_process/data/07_plots/test_subfoldername/view/inwall_force_1',\n",
       " '/home/ic6413/simulation/lammps_process/data/07_plots/test_subfoldername/view/inwall_force_2',\n",
       " '/home/ic6413/simulation/lammps_process/data/07_plots/test_subfoldername/view/inwall_force_3',\n",
       " '/home/ic6413/simulation/lammps_process/data/07_plots/test_subfoldername/view/outwall_force_1',\n",
       " '/home/ic6413/simulation/lammps_process/data/07_plots/test_subfoldername/view/outwall_force_2',\n",
       " '/home/ic6413/simulation/lammps_process/data/07_plots/test_subfoldername/view/outwall_force_3',\n",
       " '/home/ic6413/simulation/lammps_process/data/07_plots/test_subfoldername/view/velocity_1',\n",
       " '/home/ic6413/simulation/lammps_process/data/07_plots/test_subfoldername/view/zbottom_force_1',\n",
       " '/home/ic6413/simulation/lammps_process/data/07_plots/test_subfoldername/view/zbottom_force_2',\n",
       " '/home/ic6413/simulation/lammps_process/data/07_plots/test_subfoldername/view/zbottom_force_3']"
      ]
     },
     "metadata": {},
     "execution_count": 7
    }
   ],
   "source": [
    "pic_path_list"
   ]
  },
  {
   "cell_type": "code",
   "execution_count": null,
   "metadata": {},
   "outputs": [],
   "source": []
  }
 ]
}