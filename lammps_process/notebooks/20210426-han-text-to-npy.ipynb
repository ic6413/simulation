{
 "metadata": {
  "language_info": {
   "codemirror_mode": {
    "name": "ipython",
    "version": 3
   },
   "file_extension": ".py",
   "mimetype": "text/x-python",
   "name": "python",
   "nbconvert_exporter": "python",
   "pygments_lexer": "ipython3",
   "version": "3.7.3-final"
  },
  "orig_nbformat": 2,
  "kernelspec": {
   "name": "python3",
   "display_name": "Python 3.7.3 64-bit ('base': conda)",
   "metadata": {
    "interpreter": {
     "hash": "014bbb060d5dcd6f172b95fb49fd54994da1b47573c78d9746be25b2deaee267"
    }
   }
  }
 },
 "nbformat": 4,
 "nbformat_minor": 2,
 "cells": [
  {
   "cell_type": "code",
   "execution_count": 2,
   "metadata": {},
   "outputs": [],
   "source": [
    "import pandas as pd\n",
    "import d00_utils.read_log as dr\n",
    "import d00_utils.data as dd\n",
    "# read log file to lines and\n",
    "# read log file\n",
    "lmp_folder_path = os.path.join(\n",
    "    os.path.expanduser(\"~\"),\n",
    "    'simulation',\n",
    "    'lammps_process',\n",
    "    'data',\n",
    "    '01_raw',\n",
    "    'Link to lmp_run',\n",
    "    'block_xp_50_w_16_h_30_Sa_2e-6_his_yes_xmu_5e-1_noshearfor_5e6_and_run_1e7',\n",
    "    'f_5e6_run_1e7',\n",
    "    'f_15e6_run_15e7',\n",
    ")\n",
    "inputpicklepath = os.path.join(logfile_folder_path, 'python_global.pickle')\n",
    "(log_variable_dic_list, n_simu_total, log_variable, folder_path_list_initial_to_last) = dr.get_dumped_variable(logfile_folder_path, inputpicklepath)\n"
   ]
  },
  {
   "cell_type": "code",
   "execution_count": 3,
   "metadata": {},
   "outputs": [
    {
     "output_type": "error",
     "ename": "NameError",
     "evalue": "name 'dd' is not defined",
     "traceback": [
      "\u001b[0;31m---------------------------------------------------------------------------\u001b[0m",
      "\u001b[0;31mNameError\u001b[0m                                 Traceback (most recent call last)",
      "\u001b[0;32m<ipython-input-3-725310bf2bab>\u001b[0m in \u001b[0;36m<module>\u001b[0;34m\u001b[0m\n\u001b[0;32m----> 1\u001b[0;31m dd.multi_simu_save_non_coord_23_to_npy_replace(\n\u001b[0m\u001b[1;32m      2\u001b[0m     \u001b[0mfolder_path_list_initial_to_last\u001b[0m\u001b[0;34m,\u001b[0m\u001b[0;34m\u001b[0m\u001b[0;34m\u001b[0m\u001b[0m\n\u001b[1;32m      3\u001b[0m     \u001b[0mlen_in_each_dim_coord23\u001b[0m\u001b[0;34m,\u001b[0m\u001b[0;34m\u001b[0m\u001b[0;34m\u001b[0m\u001b[0m\n\u001b[1;32m      4\u001b[0m     \u001b[0mlog_variable_dic_list\u001b[0m\u001b[0;34m,\u001b[0m\u001b[0;34m\u001b[0m\u001b[0;34m\u001b[0m\u001b[0m\n\u001b[1;32m      5\u001b[0m     \u001b[0mn_row_header\u001b[0m\u001b[0;34m=\u001b[0m\u001b[0;36m3\u001b[0m\u001b[0;34m,\u001b[0m \u001b[0mn_column_of_step\u001b[0m\u001b[0;34m=\u001b[0m\u001b[0;36m1\u001b[0m\u001b[0;34m,\u001b[0m \u001b[0mn_column_of_chunk_number\u001b[0m\u001b[0;34m=\u001b[0m\u001b[0;36m2\u001b[0m\u001b[0;34m,\u001b[0m\u001b[0;34m\u001b[0m\u001b[0;34m\u001b[0m\u001b[0m\n",
      "\u001b[0;31mNameError\u001b[0m: name 'dd' is not defined"
     ]
    }
   ],
   "source": [
    "dd.multi_simu_save_non_coord_23_to_npy_replace(\n",
    "    folder_path_list_initial_to_last,\n",
    "    len_in_each_dim_coord23,\n",
    "    log_variable_dic_list,\n",
    "    n_row_header=3, n_column_of_step=1, n_column_of_chunk_number=2,\n",
    ")"
   ]
  },
  {
   "cell_type": "code",
   "execution_count": null,
   "metadata": {},
   "outputs": [],
   "source": []
  }
 ]
}