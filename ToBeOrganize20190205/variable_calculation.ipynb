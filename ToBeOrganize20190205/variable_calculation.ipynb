{
 "cells": [
  {
   "cell_type": "code",
   "execution_count": 1,
   "metadata": {},
   "outputs": [
    {
     "data": {
      "text/html": [
       "<div>\n",
       "<style scoped>\n",
       "    .dataframe tbody tr th:only-of-type {\n",
       "        vertical-align: middle;\n",
       "    }\n",
       "\n",
       "    .dataframe tbody tr th {\n",
       "        vertical-align: top;\n",
       "    }\n",
       "\n",
       "    .dataframe thead th {\n",
       "        text-align: right;\n",
       "    }\n",
       "</style>\n",
       "<table border=\"1\" class=\"dataframe\">\n",
       "  <thead>\n",
       "    <tr style=\"text-align: right;\">\n",
       "      <th></th>\n",
       "      <th>I</th>\n",
       "      <th>Sa</th>\n",
       "      <th>omega</th>\n",
       "      <th>in_velocity</th>\n",
       "      <th>shear_rate</th>\n",
       "    </tr>\n",
       "  </thead>\n",
       "  <tbody>\n",
       "    <tr>\n",
       "      <th>0</th>\n",
       "      <td>1.333E-03</td>\n",
       "      <td>2.000E-06</td>\n",
       "      <td>2.658E-01</td>\n",
       "      <td>8.163E-03</td>\n",
       "      <td>6.147E-01</td>\n",
       "    </tr>\n",
       "  </tbody>\n",
       "</table>\n",
       "</div>"
      ],
      "text/plain": [
       "          I        Sa     omega  in_velocity  shear_rate\n",
       "0 1.333E-03 2.000E-06 2.658E-01    8.163E-03   6.147E-01"
      ]
     },
     "execution_count": 1,
     "metadata": {},
     "output_type": "execute_result"
    }
   ],
   "source": [
    "import math\n",
    "import numpy as np\n",
    "import pandas as pd\n",
    "dp = 8.3e-4\n",
    "rp = dp/2\n",
    "ri_dp_unit = 37\n",
    "width_dp_unit = 16\n",
    "L_dp_unit = 60\n",
    "ri = (ri_dp_unit)*dp\n",
    "ro = (ri_dp_unit+width_dp_unit)*dp\n",
    "L = L_dp_unit*dp\n",
    "Sa = 2e-6\n",
    "omega = math.sqrt( Sa*9.8*(ro-ri)**3/(dp)**2/ri**2 )\n",
    "in_velocity = omega*ri\n",
    "shear_rate = in_velocity/(ro-ri)\n",
    "fraction = 0.6\n",
    "density = 1200/fraction\n",
    "P = fraction*density*9.8*L/2\n",
    "I = shear_rate*dp/math.sqrt(P/density)\n",
    "pd.set_option('display.float_format', '{:.3E}'.format)\n",
    "variable = {'I': [I], 'Sa': [Sa], 'omega': [omega], 'in_velocity': [in_velocity], 'shear_rate': [shear_rate]}\n",
    "data_variable = pd.DataFrame(data=variable).astype(float)\n",
    "data_variable\n",
    "\n",
    "\n"
   ]
  },
  {
   "cell_type": "code",
   "execution_count": 34,
   "metadata": {},
   "outputs": [
    {
     "data": {
      "text/html": [
       "<div>\n",
       "<style scoped>\n",
       "    .dataframe tbody tr th:only-of-type {\n",
       "        vertical-align: middle;\n",
       "    }\n",
       "\n",
       "    .dataframe tbody tr th {\n",
       "        vertical-align: top;\n",
       "    }\n",
       "\n",
       "    .dataframe thead th {\n",
       "        text-align: right;\n",
       "    }\n",
       "</style>\n",
       "<table border=\"1\" class=\"dataframe\">\n",
       "  <thead>\n",
       "    <tr style=\"text-align: right;\">\n",
       "      <th></th>\n",
       "      <th>I</th>\n",
       "      <th>Sa</th>\n",
       "      <th>omega</th>\n",
       "      <th>in_velocity</th>\n",
       "      <th>shear_rate</th>\n",
       "    </tr>\n",
       "  </thead>\n",
       "  <tbody>\n",
       "    <tr>\n",
       "      <th>0</th>\n",
       "      <td>9.589E-05</td>\n",
       "      <td>1.485E-07</td>\n",
       "      <td>1.885E+00</td>\n",
       "      <td>2.262E-03</td>\n",
       "      <td>1.740E+00</td>\n",
       "    </tr>\n",
       "  </tbody>\n",
       "</table>\n",
       "</div>"
      ],
      "text/plain": [
       "          I        Sa     omega  in_velocity  shear_rate\n",
       "0 9.589E-05 1.485E-07 1.885E+00    2.262E-03   1.740E+00"
      ]
     },
     "execution_count": 34,
     "metadata": {},
     "output_type": "execute_result"
    }
   ],
   "source": [
    "dp = 2.5e-5\n",
    "rp = dp/2\n",
    "ri = 0.0012\n",
    "ro = 0.0025\n",
    "L = 0.07\n",
    "omega_rev_unit = 0.3\n",
    "omega = omega_rev_unit*2*math.pi\n",
    "Sa = omega**2/9.8/(ro-ri)**3*(dp)**2*ri**2\n",
    "in_velocity = omega*ri\n",
    "shear_rate = in_velocity/(ro-ri)\n",
    "fraction = 0.6\n",
    "density = 1200/fraction\n",
    "P = fraction*density*9.8*L/2\n",
    "I = shear_rate*dp/math.sqrt(P/density)\n",
    "pd.set_option('display.float_format', '{:.3E}'.format)\n",
    "variable = {'I': [I], 'Sa': [Sa], 'omega': [omega], 'in_velocity': [in_velocity], 'shear_rate': [shear_rate]}\n",
    "data_variable = pd.DataFrame(data=variable)\n",
    "data_variable\n",
    "\n"
   ]
  },
  {
   "cell_type": "code",
   "execution_count": null,
   "metadata": {},
   "outputs": [],
   "source": []
  }
 ],
 "metadata": {
  "kernelspec": {
   "display_name": "Python 3",
   "language": "python",
   "name": "python3"
  },
  "language_info": {
   "codemirror_mode": {
    "name": "ipython",
    "version": 3
   },
   "file_extension": ".py",
   "mimetype": "text/x-python",
   "name": "python",
   "nbconvert_exporter": "python",
   "pygments_lexer": "ipython3",
   "version": "3.7.0"
  }
 },
 "nbformat": 4,
 "nbformat_minor": 2
}
