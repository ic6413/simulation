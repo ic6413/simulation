{
 "cells": [
  {
   "cell_type": "code",
   "execution_count": 1,
   "metadata": {},
   "outputs": [],
   "source": [
    "import pandas as pd\n",
    "import numpy as np\n",
    "import sys\n",
    "import matplotlib.pyplot as plt\n",
    "# This import registers the 3D projection, but is otherwise unused.\n",
    "from mpl_toolkits.mplot3d import Axes3D  # noqa: F401 unused import\n",
    "foldername = 'python_images/'\n",
    "filename = 'avspatial/file_avspatial'\n",
    "\n",
    "filenamewall = 'avtimewall/file_timeav_wall' \n",
    "fw = open(filenamewall)\n",
    "lines_wall = fw.read().strip().split('\\n')\n",
    "header_wall = lines_wall[1][2:].split(' ')\n",
    "lines_wall = lines_wall[2:]\n",
    "datawall = []\n",
    "for j in range(0, len(lines_wall) ):\n",
    "    datawall.append(lines_wall[j].split(' '))\n",
    "datawall = pd.DataFrame(data=datawall, columns=header_wall)\n",
    "\n",
    "Nr = 16\n",
    "Nz = 20\n",
    "f = open(filename)\n",
    "lines = f.read().strip().split('\\n')\n",
    "header = lines[2][2:].split(' ')\n",
    "lines = lines[3:]\n",
    "idx = 0\n",
    "while idx < len(lines):\n",
    "    data = []\n",
    "    timestep = lines[idx].split(' ')[0]\n",
    "    rownum = int(lines[idx].split(' ')[1])\n",
    "    idx += 1\n",
    "    for j in range(rownum):\n",
    "        data.append(lines[idx][2:].split(' '))\n",
    "        idx += 1\n",
    "    \n",
    "    #data=np.array(data)\n",
    "    datapd = pd.DataFrame(data=data, columns=header).astype('float64')\n",
    "    \n",
    "    # Make the grid\n",
    "    Chunk = datapd['Chunk']\n",
    "  \n",
    "    y = ( (Chunk-1)//Nr + 0.5)/Nz\n",
    "    x = ( (Chunk-1)%Nr + 0.5)/Nr\n",
    "    # Make the direction data for the arrows\n",
    "    u = datapd['v_vr'].values.astype('float64')\n",
    "    v = datapd['vz'].values.astype('float64')\n",
    "    fig = plt.figure()\n",
    "    plt.xlabel('r axis')\n",
    "    plt.ylabel('z axis')\n",
    "    plt.quiver(x, y, u, v)\n",
    "    realtime = [row[2] for row in datawall.itertuples() if row[1]==timestep][0]\n",
    "    fig.suptitle('time=' + realtime, fontsize=12)\n",
    "    realtime = realtime.replace('.', '_')\n",
    "    fig.savefig(foldername + 'velocity_r_z' + timestep + 'time' + realtime + '.png')   # save the figure to file\n",
    "    plt.close(fig)    # close the figure    "
   ]
  },
  {
   "cell_type": "code",
   "execution_count": null,
   "metadata": {},
   "outputs": [],
   "source": []
  }
 ],
 "metadata": {
  "kernelspec": {
   "display_name": "Python 3",
   "language": "python",
   "name": "python3"
  },
  "language_info": {
   "codemirror_mode": {
    "name": "ipython",
    "version": 3
   },
   "file_extension": ".py",
   "mimetype": "text/x-python",
   "name": "python",
   "nbconvert_exporter": "python",
   "pygments_lexer": "ipython3",
   "version": "3.7.0"
  }
 },
 "nbformat": 4,
 "nbformat_minor": 2
}
