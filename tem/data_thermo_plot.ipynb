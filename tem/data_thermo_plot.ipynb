{
 "cells": [
  {
   "cell_type": "code",
   "execution_count": 1,
   "metadata": {},
   "outputs": [
    {
     "ename": "FileNotFoundError",
     "evalue": "[Errno 2] No such file or directory: 'mu0'",
     "output_type": "error",
     "traceback": [
      "\u001b[0;31m---------------------------------------------------------------------------\u001b[0m",
      "\u001b[0;31mFileNotFoundError\u001b[0m                         Traceback (most recent call last)",
      "\u001b[0;32m<ipython-input-1-074bcacc56ce>\u001b[0m in \u001b[0;36m<module>\u001b[0;34m()\u001b[0m\n\u001b[1;32m      7\u001b[0m \u001b[0mfoldername\u001b[0m \u001b[0;34m=\u001b[0m \u001b[0;34m'freeze/'\u001b[0m\u001b[0;34m\u001b[0m\u001b[0m\n\u001b[1;32m      8\u001b[0m \u001b[0mfilename\u001b[0m \u001b[0;34m=\u001b[0m \u001b[0;34m'mu0'\u001b[0m\u001b[0;34m\u001b[0m\u001b[0m\n\u001b[0;32m----> 9\u001b[0;31m \u001b[0mf\u001b[0m \u001b[0;34m=\u001b[0m \u001b[0mopen\u001b[0m\u001b[0;34m(\u001b[0m\u001b[0mfilename\u001b[0m\u001b[0;34m)\u001b[0m\u001b[0;34m\u001b[0m\u001b[0m\n\u001b[0m\u001b[1;32m     10\u001b[0m \u001b[0mdata\u001b[0m \u001b[0;34m=\u001b[0m \u001b[0;34m[\u001b[0m\u001b[0;34m]\u001b[0m\u001b[0;34m\u001b[0m\u001b[0m\n\u001b[1;32m     11\u001b[0m \u001b[0mlines\u001b[0m \u001b[0;34m=\u001b[0m \u001b[0mf\u001b[0m\u001b[0;34m.\u001b[0m\u001b[0mread\u001b[0m\u001b[0;34m(\u001b[0m\u001b[0;34m)\u001b[0m\u001b[0;34m.\u001b[0m\u001b[0mstrip\u001b[0m\u001b[0;34m(\u001b[0m\u001b[0;34m)\u001b[0m\u001b[0;34m.\u001b[0m\u001b[0msplit\u001b[0m\u001b[0;34m(\u001b[0m\u001b[0;34m'\\n'\u001b[0m\u001b[0;34m)\u001b[0m\u001b[0;34m\u001b[0m\u001b[0m\n",
      "\u001b[0;31mFileNotFoundError\u001b[0m: [Errno 2] No such file or directory: 'mu0'"
     ]
    }
   ],
   "source": [
    "import pandas as pd\n",
    "import numpy as np\n",
    "import sys\n",
    "import matplotlib.pyplot as plt\n",
    "# This import registers the 3D projection, but is otherwise unused.\n",
    "from mpl_toolkits.mplot3d import Axes3D  # noqa: F401 unused import\n",
    "foldername = 'freeze/'\n",
    "filename = 'mu0' \n",
    "f = open(filename)\n",
    "data = []\n",
    "lines = f.read().strip().split('\\n')\n",
    "lines[-1] = lines[-1] + ' '\n",
    "idy = 0\n",
    "while idy < len(lines):\n",
    "    if lines[idy][0:4]=='Step':\n",
    "        header = lines[idy].split()[:]\n",
    "        break\n",
    "    idy += 1\n",
    "\n",
    "idx = 0\n",
    "idx += 1\n",
    "while idx < len(lines): \n",
    "    while idx < len(lines):\n",
    "        if lines[idx][0:4]=='Step':\n",
    "            break\n",
    "        idx += 1\n",
    "    idx += 1\n",
    "    while idx < len(lines):\n",
    "        if lines[idx][0:4]=='Loop':\n",
    "            break\n",
    "        data.append( lines[idx][:].split() )\n",
    "        idx += 1\n",
    "    idx += 1\n",
    "\n",
    "datapd = pd.DataFrame(data=data, columns=header).astype('float64')"
   ]
  },
  {
   "cell_type": "code",
   "execution_count": 4,
   "metadata": {},
   "outputs": [],
   "source": [
    "#normalize factor\n",
    "rp = 0.000415\n",
    "d = 2500\n",
    "mass = np.pi*4/3*rp**3*d"
   ]
  },
  {
   "cell_type": "code",
   "execution_count": 12,
   "metadata": {},
   "outputs": [
    {
     "data": {
      "image/png": "[encoded data removed]",
      "text/plain": [
       "<Figure size 432x288 with 1 Axes>"
      ]
     },
     "metadata": {
      "needs_background": "light"
     },
     "output_type": "display_data"
    }
   ],
   "source": [
    "scale_x = 'linear'\n",
    "scale_y = 'linear'\n",
    "\n",
    "x_variable_name = 'Step'\n",
    "y_variable_name = 'c_max[1]'  #c_ke_rotate  v_check_value  PotEng   c_max[4]/c_max[2]\n",
    "\n",
    "timestep_start = 1\n",
    "timestep_end = -1\n",
    "\n",
    "x = datapd[x_variable_name][timestep_start: timestep_end]\n",
    "y = datapd[y_variable_name][timestep_start: timestep_end]\n",
    "\n",
    "x = x.values.astype('float64')\n",
    "y = y.values.astype('float64')\n",
    "\n",
    "fig = plt.figure()\n",
    "plt.plot(x,y,'.')\n",
    "plt.xscale(scale_x)\n",
    "plt.yscale(scale_y)\n",
    "plt.xticks(rotation=20)\n",
    "plt.xlabel(x_variable_name)\n",
    "plt.ylabel('KE_max')\n",
    "fig.savefig('test',bbox_inches='tight')   # save the figure to file"
   ]
  },
  {
   "cell_type": "code",
   "execution_count": 3,
   "metadata": {},
   "outputs": [
    {
     "ename": "NameError",
     "evalue": "name 'rp' is not defined",
     "output_type": "error",
     "traceback": [
      "\u001b[0;31m---------------------------------------------------------------------------\u001b[0m",
      "\u001b[0;31mNameError\u001b[0m                                 Traceback (most recent call last)",
      "\u001b[0;32m<ipython-input-3-dcb738b642ab>\u001b[0m in \u001b[0;36m<module>\u001b[0;34m()\u001b[0m\n\u001b[1;32m     12\u001b[0m \u001b[0;34m\u001b[0m\u001b[0m\n\u001b[1;32m     13\u001b[0m \u001b[0mx\u001b[0m \u001b[0;34m=\u001b[0m \u001b[0mx\u001b[0m\u001b[0;34m.\u001b[0m\u001b[0mvalues\u001b[0m\u001b[0;34m.\u001b[0m\u001b[0mastype\u001b[0m\u001b[0;34m(\u001b[0m\u001b[0;34m'float64'\u001b[0m\u001b[0;34m)\u001b[0m\u001b[0;34m\u001b[0m\u001b[0m\n\u001b[0;32m---> 14\u001b[0;31m \u001b[0my\u001b[0m \u001b[0;34m=\u001b[0m \u001b[0my\u001b[0m\u001b[0;34m.\u001b[0m\u001b[0mvalues\u001b[0m\u001b[0;34m.\u001b[0m\u001b[0mastype\u001b[0m\u001b[0;34m(\u001b[0m\u001b[0;34m'float64'\u001b[0m\u001b[0;34m)\u001b[0m\u001b[0;34m/\u001b[0m\u001b[0mrp\u001b[0m\u001b[0;34m\u001b[0m\u001b[0m\n\u001b[0m\u001b[1;32m     15\u001b[0m \u001b[0;34m\u001b[0m\u001b[0m\n\u001b[1;32m     16\u001b[0m \u001b[0mfig\u001b[0m \u001b[0;34m=\u001b[0m \u001b[0mplt\u001b[0m\u001b[0;34m.\u001b[0m\u001b[0mfigure\u001b[0m\u001b[0;34m(\u001b[0m\u001b[0;34m)\u001b[0m\u001b[0;34m\u001b[0m\u001b[0m\n",
      "\u001b[0;31mNameError\u001b[0m: name 'rp' is not defined"
     ]
    }
   ],
   "source": [
    "scale_x = 'linear'\n",
    "scale_y = 'linear'\n",
    "\n",
    "x_variable_name = 'Step'\n",
    "y_variable_name = 'c_max[4]'  #c_ke_rotate  v_check_value  PotEng   c_max[4]/c_max[2]\n",
    "\n",
    "timestep_start = 1\n",
    "timestep_end = -1\n",
    "\n",
    "x = datapd[x_variable_name][timestep_start: timestep_end]\n",
    "y = datapd[y_variable_name][timestep_start: timestep_end]\n",
    "\n",
    "x = x.values.astype('float64')\n",
    "y = y.values.astype('float64')/rp\n",
    "\n",
    "fig = plt.figure()\n",
    "plt.plot(x,y,'.')\n",
    "plt.xscale(scale_x)\n",
    "plt.yscale(scale_y)\n",
    "plt.xticks(rotation=20)\n",
    "plt.xlabel(x_variable_name)\n",
    "plt.ylabel('KE_max')\n",
    "fig.savefig(foldername + filename + '_maxKE' + '_scale' +scale_x + scale_y + '.png',bbox_inches='tight')   # save the figure to file"
   ]
  },
  {
   "cell_type": "code",
   "execution_count": 245,
   "metadata": {},
   "outputs": [
    {
     "data": {
      "image/png": "[encoded data removed]",
      "text/plain": [
       "<Figure size 432x288 with 1 Axes>"
      ]
     },
     "metadata": {
      "needs_background": "light"
     },
     "output_type": "display_data"
    }
   ],
   "source": [
    "scale_x = 'linear'\n",
    "scale_y = 'linear'\n",
    "\n",
    "x_variable_name = 'Step'\n",
    "y_variable_name = 'c_max[2]'  #c_ke_rotate  v_check_value  PotEng   c_max[4]/c_max[2]\n",
    "\n",
    "timestep_start = 1\n",
    "timestep_end = -1\n",
    "\n",
    "x = datapd[x_variable_name][timestep_start: timestep_end]\n",
    "y = datapd[y_variable_name][timestep_start: timestep_end]\n",
    "\n",
    "x = x.values.astype('float64')\n",
    "y = y.values.astype('float64')/mass/rp**2\n",
    "\n",
    "fig = plt.figure()\n",
    "plt.plot(x,y,'.')\n",
    "plt.xscale(scale_x)\n",
    "plt.yscale(scale_y)\n",
    "plt.xticks(rotation=20)\n",
    "plt.xlabel(x_variable_name)\n",
    "plt.ylabel('KE_max')\n",
    "fig.savefig(foldername + filename + '_maxKE' + '_scale' +scale_x + scale_y + '.png',bbox_inches='tight')   # save the figure to file\n"
   ]
  },
  {
   "cell_type": "code",
   "execution_count": 246,
   "metadata": {},
   "outputs": [
    {
     "data": {
      "image/png": "[encoded data removed]",
      "text/plain": [
       "<Figure size 432x288 with 1 Axes>"
      ]
     },
     "metadata": {
      "needs_background": "light"
     },
     "output_type": "display_data"
    }
   ],
   "source": [
    "scale_x = 'linear'\n",
    "scale_y = 'log'\n",
    "\n",
    "x_variable_name = 'Step'\n",
    "y_variable_name = 'v_check_value'  #c_ke_rotate  v_check_value  PotEng   c_max[4]/c_max[2]\n",
    "\n",
    "timestep_start = 1\n",
    "timestep_end = -1\n",
    "\n",
    "x = datapd[x_variable_name][timestep_start: timestep_end]\n",
    "y = datapd[y_variable_name][timestep_start: timestep_end]\n",
    "\n",
    "x = x.values.astype('float64')\n",
    "y = y.values.astype('float64')/mass/rp**2\n",
    "\n",
    "fig = plt.figure()\n",
    "plt.xscale(scale_x)\n",
    "plt.yscale(scale_y)\n",
    "plt.xticks(rotation=20)\n",
    "plt.xlabel(x_variable_name)\n",
    "plt.ylabel('KE')\n",
    "plt.plot(x,y,'.')\n",
    "fig.savefig(foldername + filename + '_KE' + '_scale' +scale_x + scale_y + '.png',bbox_inches='tight')   # save the figure to file\n"
   ]
  },
  {
   "cell_type": "code",
   "execution_count": 247,
   "metadata": {},
   "outputs": [
    {
     "data": {
      "image/png": "[encoded data removed]",
      "text/plain": [
       "<Figure size 432x288 with 1 Axes>"
      ]
     },
     "metadata": {
      "needs_background": "light"
     },
     "output_type": "display_data"
    }
   ],
   "source": [
    "scale_x = 'linear'\n",
    "scale_y = 'log'\n",
    "\n",
    "x_variable_name = 'Step'\n",
    "y1_variable_name = 'v_check_value'\n",
    "y3_variable_name = 'Atoms'\n",
    "\n",
    "timestep_start = 1\n",
    "timestep_end = -1\n",
    "\n",
    "x = datapd[x_variable_name][timestep_start: timestep_end]\n",
    "y1 = datapd[y1_variable_name][timestep_start: timestep_end]\n",
    "y3 = datapd[y3_variable_name][timestep_start: timestep_end]\n",
    "\n",
    "x = x.values.astype('float64')\n",
    "y1 = y1.values.astype('float64')\n",
    "y3 = y3.values.astype('float64')\n",
    "\n",
    "y = y1/y3\n",
    "y = y/mass/rp**2\n",
    "\n",
    "fig = plt.figure()\n",
    "plt.xscale(scale_x)\n",
    "plt.yscale(scale_y)\n",
    "plt.xticks(rotation=20)\n",
    "plt.xlabel(x_variable_name)\n",
    "plt.ylabel('aveKE')\n",
    "plt.plot(x,y,'.')\n",
    "fig.savefig(foldername + filename + '_aveKE' + '.png',bbox_inches='tight')   # save the figure to file"
   ]
  },
  {
   "cell_type": "code",
   "execution_count": 248,
   "metadata": {},
   "outputs": [
    {
     "ename": "KeyError",
     "evalue": "'PotEng'",
     "output_type": "error",
     "traceback": [
      "\u001b[0;31m---------------------------------------------------------------------------\u001b[0m",
      "\u001b[0;31mKeyError\u001b[0m                                  Traceback (most recent call last)",
      "\u001b[0;32m~/anaconda3/lib/python3.7/site-packages/pandas/core/indexes/base.py\u001b[0m in \u001b[0;36mget_loc\u001b[0;34m(self, key, method, tolerance)\u001b[0m\n\u001b[1;32m   3077\u001b[0m             \u001b[0;32mtry\u001b[0m\u001b[0;34m:\u001b[0m\u001b[0;34m\u001b[0m\u001b[0m\n\u001b[0;32m-> 3078\u001b[0;31m                 \u001b[0;32mreturn\u001b[0m \u001b[0mself\u001b[0m\u001b[0;34m.\u001b[0m\u001b[0m_engine\u001b[0m\u001b[0;34m.\u001b[0m\u001b[0mget_loc\u001b[0m\u001b[0;34m(\u001b[0m\u001b[0mkey\u001b[0m\u001b[0;34m)\u001b[0m\u001b[0;34m\u001b[0m\u001b[0m\n\u001b[0m\u001b[1;32m   3079\u001b[0m             \u001b[0;32mexcept\u001b[0m \u001b[0mKeyError\u001b[0m\u001b[0;34m:\u001b[0m\u001b[0;34m\u001b[0m\u001b[0m\n",
      "\u001b[0;32mpandas/_libs/index.pyx\u001b[0m in \u001b[0;36mpandas._libs.index.IndexEngine.get_loc\u001b[0;34m()\u001b[0m\n",
      "\u001b[0;32mpandas/_libs/index.pyx\u001b[0m in \u001b[0;36mpandas._libs.index.IndexEngine.get_loc\u001b[0;34m()\u001b[0m\n",
      "\u001b[0;32mpandas/_libs/hashtable_class_helper.pxi\u001b[0m in \u001b[0;36mpandas._libs.hashtable.PyObjectHashTable.get_item\u001b[0;34m()\u001b[0m\n",
      "\u001b[0;32mpandas/_libs/hashtable_class_helper.pxi\u001b[0m in \u001b[0;36mpandas._libs.hashtable.PyObjectHashTable.get_item\u001b[0;34m()\u001b[0m\n",
      "\u001b[0;31mKeyError\u001b[0m: 'PotEng'",
      "\nDuring handling of the above exception, another exception occurred:\n",
      "\u001b[0;31mKeyError\u001b[0m                                  Traceback (most recent call last)",
      "\u001b[0;32m<ipython-input-248-5742f5bd3094>\u001b[0m in \u001b[0;36m<module>\u001b[0;34m()\u001b[0m\n\u001b[1;32m     12\u001b[0m \u001b[0mx\u001b[0m \u001b[0;34m=\u001b[0m \u001b[0mdatapd\u001b[0m\u001b[0;34m[\u001b[0m\u001b[0mx_variable_name\u001b[0m\u001b[0;34m]\u001b[0m\u001b[0;34m[\u001b[0m\u001b[0mtimestep_start\u001b[0m\u001b[0;34m:\u001b[0m \u001b[0mtimestep_end\u001b[0m\u001b[0;34m]\u001b[0m\u001b[0;34m\u001b[0m\u001b[0m\n\u001b[1;32m     13\u001b[0m \u001b[0my1\u001b[0m \u001b[0;34m=\u001b[0m \u001b[0mdatapd\u001b[0m\u001b[0;34m[\u001b[0m\u001b[0my1_variable_name\u001b[0m\u001b[0;34m]\u001b[0m\u001b[0;34m[\u001b[0m\u001b[0mtimestep_start\u001b[0m\u001b[0;34m:\u001b[0m \u001b[0mtimestep_end\u001b[0m\u001b[0;34m]\u001b[0m\u001b[0;34m\u001b[0m\u001b[0m\n\u001b[0;32m---> 14\u001b[0;31m \u001b[0my2\u001b[0m \u001b[0;34m=\u001b[0m \u001b[0mdatapd\u001b[0m\u001b[0;34m[\u001b[0m\u001b[0my2_variable_name\u001b[0m\u001b[0;34m]\u001b[0m\u001b[0;34m[\u001b[0m\u001b[0mtimestep_start\u001b[0m\u001b[0;34m:\u001b[0m \u001b[0mtimestep_end\u001b[0m\u001b[0;34m]\u001b[0m\u001b[0;34m\u001b[0m\u001b[0m\n\u001b[0m\u001b[1;32m     15\u001b[0m \u001b[0my3\u001b[0m \u001b[0;34m=\u001b[0m \u001b[0mdatapd\u001b[0m\u001b[0;34m[\u001b[0m\u001b[0my3_variable_name\u001b[0m\u001b[0;34m]\u001b[0m\u001b[0;34m[\u001b[0m\u001b[0mtimestep_start\u001b[0m\u001b[0;34m:\u001b[0m \u001b[0mtimestep_end\u001b[0m\u001b[0;34m]\u001b[0m\u001b[0;34m\u001b[0m\u001b[0m\n\u001b[1;32m     16\u001b[0m \u001b[0;34m\u001b[0m\u001b[0m\n",
      "\u001b[0;32m~/anaconda3/lib/python3.7/site-packages/pandas/core/frame.py\u001b[0m in \u001b[0;36m__getitem__\u001b[0;34m(self, key)\u001b[0m\n\u001b[1;32m   2686\u001b[0m             \u001b[0;32mreturn\u001b[0m \u001b[0mself\u001b[0m\u001b[0;34m.\u001b[0m\u001b[0m_getitem_multilevel\u001b[0m\u001b[0;34m(\u001b[0m\u001b[0mkey\u001b[0m\u001b[0;34m)\u001b[0m\u001b[0;34m\u001b[0m\u001b[0m\n\u001b[1;32m   2687\u001b[0m         \u001b[0;32melse\u001b[0m\u001b[0;34m:\u001b[0m\u001b[0;34m\u001b[0m\u001b[0m\n\u001b[0;32m-> 2688\u001b[0;31m             \u001b[0;32mreturn\u001b[0m \u001b[0mself\u001b[0m\u001b[0;34m.\u001b[0m\u001b[0m_getitem_column\u001b[0m\u001b[0;34m(\u001b[0m\u001b[0mkey\u001b[0m\u001b[0;34m)\u001b[0m\u001b[0;34m\u001b[0m\u001b[0m\n\u001b[0m\u001b[1;32m   2689\u001b[0m \u001b[0;34m\u001b[0m\u001b[0m\n\u001b[1;32m   2690\u001b[0m     \u001b[0;32mdef\u001b[0m \u001b[0m_getitem_column\u001b[0m\u001b[0;34m(\u001b[0m\u001b[0mself\u001b[0m\u001b[0;34m,\u001b[0m \u001b[0mkey\u001b[0m\u001b[0;34m)\u001b[0m\u001b[0;34m:\u001b[0m\u001b[0;34m\u001b[0m\u001b[0m\n",
      "\u001b[0;32m~/anaconda3/lib/python3.7/site-packages/pandas/core/frame.py\u001b[0m in \u001b[0;36m_getitem_column\u001b[0;34m(self, key)\u001b[0m\n\u001b[1;32m   2693\u001b[0m         \u001b[0;31m# get column\u001b[0m\u001b[0;34m\u001b[0m\u001b[0;34m\u001b[0m\u001b[0m\n\u001b[1;32m   2694\u001b[0m         \u001b[0;32mif\u001b[0m \u001b[0mself\u001b[0m\u001b[0;34m.\u001b[0m\u001b[0mcolumns\u001b[0m\u001b[0;34m.\u001b[0m\u001b[0mis_unique\u001b[0m\u001b[0;34m:\u001b[0m\u001b[0;34m\u001b[0m\u001b[0m\n\u001b[0;32m-> 2695\u001b[0;31m             \u001b[0;32mreturn\u001b[0m \u001b[0mself\u001b[0m\u001b[0;34m.\u001b[0m\u001b[0m_get_item_cache\u001b[0m\u001b[0;34m(\u001b[0m\u001b[0mkey\u001b[0m\u001b[0;34m)\u001b[0m\u001b[0;34m\u001b[0m\u001b[0m\n\u001b[0m\u001b[1;32m   2696\u001b[0m \u001b[0;34m\u001b[0m\u001b[0m\n\u001b[1;32m   2697\u001b[0m         \u001b[0;31m# duplicate columns & possible reduce dimensionality\u001b[0m\u001b[0;34m\u001b[0m\u001b[0;34m\u001b[0m\u001b[0m\n",
      "\u001b[0;32m~/anaconda3/lib/python3.7/site-packages/pandas/core/generic.py\u001b[0m in \u001b[0;36m_get_item_cache\u001b[0;34m(self, item)\u001b[0m\n\u001b[1;32m   2487\u001b[0m         \u001b[0mres\u001b[0m \u001b[0;34m=\u001b[0m \u001b[0mcache\u001b[0m\u001b[0;34m.\u001b[0m\u001b[0mget\u001b[0m\u001b[0;34m(\u001b[0m\u001b[0mitem\u001b[0m\u001b[0;34m)\u001b[0m\u001b[0;34m\u001b[0m\u001b[0m\n\u001b[1;32m   2488\u001b[0m         \u001b[0;32mif\u001b[0m \u001b[0mres\u001b[0m \u001b[0;32mis\u001b[0m \u001b[0;32mNone\u001b[0m\u001b[0;34m:\u001b[0m\u001b[0;34m\u001b[0m\u001b[0m\n\u001b[0;32m-> 2489\u001b[0;31m             \u001b[0mvalues\u001b[0m \u001b[0;34m=\u001b[0m \u001b[0mself\u001b[0m\u001b[0;34m.\u001b[0m\u001b[0m_data\u001b[0m\u001b[0;34m.\u001b[0m\u001b[0mget\u001b[0m\u001b[0;34m(\u001b[0m\u001b[0mitem\u001b[0m\u001b[0;34m)\u001b[0m\u001b[0;34m\u001b[0m\u001b[0m\n\u001b[0m\u001b[1;32m   2490\u001b[0m             \u001b[0mres\u001b[0m \u001b[0;34m=\u001b[0m \u001b[0mself\u001b[0m\u001b[0;34m.\u001b[0m\u001b[0m_box_item_values\u001b[0m\u001b[0;34m(\u001b[0m\u001b[0mitem\u001b[0m\u001b[0;34m,\u001b[0m \u001b[0mvalues\u001b[0m\u001b[0;34m)\u001b[0m\u001b[0;34m\u001b[0m\u001b[0m\n\u001b[1;32m   2491\u001b[0m             \u001b[0mcache\u001b[0m\u001b[0;34m[\u001b[0m\u001b[0mitem\u001b[0m\u001b[0;34m]\u001b[0m \u001b[0;34m=\u001b[0m \u001b[0mres\u001b[0m\u001b[0;34m\u001b[0m\u001b[0m\n",
      "\u001b[0;32m~/anaconda3/lib/python3.7/site-packages/pandas/core/internals.py\u001b[0m in \u001b[0;36mget\u001b[0;34m(self, item, fastpath)\u001b[0m\n\u001b[1;32m   4113\u001b[0m \u001b[0;34m\u001b[0m\u001b[0m\n\u001b[1;32m   4114\u001b[0m             \u001b[0;32mif\u001b[0m \u001b[0;32mnot\u001b[0m \u001b[0misna\u001b[0m\u001b[0;34m(\u001b[0m\u001b[0mitem\u001b[0m\u001b[0;34m)\u001b[0m\u001b[0;34m:\u001b[0m\u001b[0;34m\u001b[0m\u001b[0m\n\u001b[0;32m-> 4115\u001b[0;31m                 \u001b[0mloc\u001b[0m \u001b[0;34m=\u001b[0m \u001b[0mself\u001b[0m\u001b[0;34m.\u001b[0m\u001b[0mitems\u001b[0m\u001b[0;34m.\u001b[0m\u001b[0mget_loc\u001b[0m\u001b[0;34m(\u001b[0m\u001b[0mitem\u001b[0m\u001b[0;34m)\u001b[0m\u001b[0;34m\u001b[0m\u001b[0m\n\u001b[0m\u001b[1;32m   4116\u001b[0m             \u001b[0;32melse\u001b[0m\u001b[0;34m:\u001b[0m\u001b[0;34m\u001b[0m\u001b[0m\n\u001b[1;32m   4117\u001b[0m                 \u001b[0mindexer\u001b[0m \u001b[0;34m=\u001b[0m \u001b[0mnp\u001b[0m\u001b[0;34m.\u001b[0m\u001b[0marange\u001b[0m\u001b[0;34m(\u001b[0m\u001b[0mlen\u001b[0m\u001b[0;34m(\u001b[0m\u001b[0mself\u001b[0m\u001b[0;34m.\u001b[0m\u001b[0mitems\u001b[0m\u001b[0;34m)\u001b[0m\u001b[0;34m)\u001b[0m\u001b[0;34m[\u001b[0m\u001b[0misna\u001b[0m\u001b[0;34m(\u001b[0m\u001b[0mself\u001b[0m\u001b[0;34m.\u001b[0m\u001b[0mitems\u001b[0m\u001b[0;34m)\u001b[0m\u001b[0;34m]\u001b[0m\u001b[0;34m\u001b[0m\u001b[0m\n",
      "\u001b[0;32m~/anaconda3/lib/python3.7/site-packages/pandas/core/indexes/base.py\u001b[0m in \u001b[0;36mget_loc\u001b[0;34m(self, key, method, tolerance)\u001b[0m\n\u001b[1;32m   3078\u001b[0m                 \u001b[0;32mreturn\u001b[0m \u001b[0mself\u001b[0m\u001b[0;34m.\u001b[0m\u001b[0m_engine\u001b[0m\u001b[0;34m.\u001b[0m\u001b[0mget_loc\u001b[0m\u001b[0;34m(\u001b[0m\u001b[0mkey\u001b[0m\u001b[0;34m)\u001b[0m\u001b[0;34m\u001b[0m\u001b[0m\n\u001b[1;32m   3079\u001b[0m             \u001b[0;32mexcept\u001b[0m \u001b[0mKeyError\u001b[0m\u001b[0;34m:\u001b[0m\u001b[0;34m\u001b[0m\u001b[0m\n\u001b[0;32m-> 3080\u001b[0;31m                 \u001b[0;32mreturn\u001b[0m \u001b[0mself\u001b[0m\u001b[0;34m.\u001b[0m\u001b[0m_engine\u001b[0m\u001b[0;34m.\u001b[0m\u001b[0mget_loc\u001b[0m\u001b[0;34m(\u001b[0m\u001b[0mself\u001b[0m\u001b[0;34m.\u001b[0m\u001b[0m_maybe_cast_indexer\u001b[0m\u001b[0;34m(\u001b[0m\u001b[0mkey\u001b[0m\u001b[0;34m)\u001b[0m\u001b[0;34m)\u001b[0m\u001b[0;34m\u001b[0m\u001b[0m\n\u001b[0m\u001b[1;32m   3081\u001b[0m \u001b[0;34m\u001b[0m\u001b[0m\n\u001b[1;32m   3082\u001b[0m         \u001b[0mindexer\u001b[0m \u001b[0;34m=\u001b[0m \u001b[0mself\u001b[0m\u001b[0;34m.\u001b[0m\u001b[0mget_indexer\u001b[0m\u001b[0;34m(\u001b[0m\u001b[0;34m[\u001b[0m\u001b[0mkey\u001b[0m\u001b[0;34m]\u001b[0m\u001b[0;34m,\u001b[0m \u001b[0mmethod\u001b[0m\u001b[0;34m=\u001b[0m\u001b[0mmethod\u001b[0m\u001b[0;34m,\u001b[0m \u001b[0mtolerance\u001b[0m\u001b[0;34m=\u001b[0m\u001b[0mtolerance\u001b[0m\u001b[0;34m)\u001b[0m\u001b[0;34m\u001b[0m\u001b[0m\n",
      "\u001b[0;32mpandas/_libs/index.pyx\u001b[0m in \u001b[0;36mpandas._libs.index.IndexEngine.get_loc\u001b[0;34m()\u001b[0m\n",
      "\u001b[0;32mpandas/_libs/index.pyx\u001b[0m in \u001b[0;36mpandas._libs.index.IndexEngine.get_loc\u001b[0;34m()\u001b[0m\n",
      "\u001b[0;32mpandas/_libs/hashtable_class_helper.pxi\u001b[0m in \u001b[0;36mpandas._libs.hashtable.PyObjectHashTable.get_item\u001b[0;34m()\u001b[0m\n",
      "\u001b[0;32mpandas/_libs/hashtable_class_helper.pxi\u001b[0m in \u001b[0;36mpandas._libs.hashtable.PyObjectHashTable.get_item\u001b[0;34m()\u001b[0m\n",
      "\u001b[0;31mKeyError\u001b[0m: 'PotEng'"
     ]
    }
   ],
   "source": [
    "scale_x = 'linear'\n",
    "scale_y = 'linear'\n",
    "\n",
    "x_variable_name = 'Step'\n",
    "y1_variable_name = 'v_check_value'\n",
    "y2_variable_name = 'PotEng'\n",
    "y3_variable_name = 'Atoms'\n",
    "\n",
    "timestep_start = 1\n",
    "timestep_end = -1\n",
    "\n",
    "x = datapd[x_variable_name][timestep_start: timestep_end]\n",
    "y1 = datapd[y1_variable_name][timestep_start: timestep_end]\n",
    "y2 = datapd[y2_variable_name][timestep_start: timestep_end]\n",
    "y3 = datapd[y3_variable_name][timestep_start: timestep_end]\n",
    "\n",
    "x = x.values.astype('float64')\n",
    "y1 = y1.values.astype('float64')\n",
    "y2 = y2.values.astype('float64')\n",
    "y3 = y3.values.astype('float64')\n",
    "\n",
    "y = y1/y3+y2\n",
    "y = y/mass/rp**2\n",
    "\n",
    "fig = plt.figure()\n",
    "plt.xscale(scale_x)\n",
    "plt.yscale(scale_y)\n",
    "plt.xticks(rotation=20)\n",
    "plt.xlabel(x_variable_name)\n",
    "plt.ylabel('aveKE+avePEg')\n",
    "plt.plot(x,y,'.')\n",
    "fig.savefig(foldername + filename + '_aveKE+avePEg' + '.png',bbox_inches='tight')   # save the figure to file"
   ]
  },
  {
   "cell_type": "code",
   "execution_count": 249,
   "metadata": {},
   "outputs": [
    {
     "data": {
      "image/png": "[encoded data removed]",
      "text/plain": [
       "<Figure size 432x288 with 1 Axes>"
      ]
     },
     "metadata": {
      "needs_background": "light"
     },
     "output_type": "display_data"
    }
   ],
   "source": [
    "scale_x = 'linear'\n",
    "scale_y = 'linear'\n",
    "\n",
    "x_variable_name = 'Step'\n",
    "y1_variable_name = 'c_max[4]'\n",
    "y2_variable_name = 'c_max[2]'\n",
    "\n",
    "timestep_start = 1\n",
    "timestep_end = -1\n",
    "\n",
    "x = datapd[x_variable_name][timestep_start: timestep_end]\n",
    "y1 = datapd[y1_variable_name][timestep_start: timestep_end]\n",
    "y2 = datapd[y2_variable_name][timestep_start: timestep_end]\n",
    "\n",
    "x = x.values.astype('float64')\n",
    "y1 = y1.values.astype('float64')\n",
    "y2 = y2.values.astype('float64')\n",
    "\n",
    "y = y1/y2\n",
    "\n",
    "fig = plt.figure()\n",
    "plt.xscale(scale_x)\n",
    "plt.yscale(scale_y)\n",
    "plt.xticks(rotation=20)\n",
    "plt.xlabel(x_variable_name)\n",
    "plt.ylabel('KEr/KE of maxKE atom')\n",
    "plt.plot(x,y,'.')\n",
    "fig.savefig(foldername + filename + '_ratio_KEr_KE_maxatom' + '_scale'  + '.png',bbox_inches='tight')   # save the figure to file\n",
    "   "
   ]
  },
  {
   "cell_type": "code",
   "execution_count": 250,
   "metadata": {},
   "outputs": [
    {
     "data": {
      "image/png": "[encoded data removed]",
      "text/plain": [
       "<Figure size 432x288 with 1 Axes>"
      ]
     },
     "metadata": {
      "needs_background": "light"
     },
     "output_type": "display_data"
    }
   ],
   "source": [
    "scale_x = 'linear'\n",
    "scale_y = 'linear'\n",
    "\n",
    "x_variable_name = 'Step'\n",
    "y1_variable_name = 'c_ke_rotate'\n",
    "y2_variable_name = 'v_check_value'\n",
    "y3_variable_name = 'Atoms'\n",
    "\n",
    "timestep_start = 1\n",
    "timestep_end = -1\n",
    "\n",
    "x = datapd[x_variable_name][timestep_start: timestep_end]\n",
    "y1 = datapd[y1_variable_name][timestep_start: timestep_end]\n",
    "y2 = datapd[y2_variable_name][timestep_start: timestep_end]\n",
    "y3 = datapd[y3_variable_name][timestep_start: timestep_end]\n",
    "\n",
    "x = x.values.astype('float64')\n",
    "y1 = y1.values.astype('float64')\n",
    "y2 = y2.values.astype('float64')\n",
    "y3 = y3.values.astype('float64')\n",
    "\n",
    "y = y1*y3/y2\n",
    "\n",
    "fig = plt.figure()\n",
    "plt.xscale(scale_x)\n",
    "plt.yscale(scale_y)\n",
    "plt.xticks(rotation=20)\n",
    "plt.xlabel(x_variable_name)\n",
    "plt.ylabel('KEr/KE')\n",
    "plt.plot(x,y,'.')\n",
    "fig.savefig(foldername + filename + '_ratio_KEr_KE' + '_scale' + '.png',bbox_inches='tight')   # save the figure to file\n",
    "  "
   ]
  },
  {
   "cell_type": "code",
   "execution_count": 254,
   "metadata": {},
   "outputs": [
    {
     "data": {
      "text/plain": [
       "51.71334429300986"
      ]
     },
     "execution_count": 254,
     "metadata": {},
     "output_type": "execute_result"
    }
   ],
   "source": [
    "(+0.029760491**2+ 0.030929238**2 )**0.5/2/rp"
   ]
  },
  {
   "cell_type": "code",
   "execution_count": 256,
   "metadata": {},
   "outputs": [
    {
     "data": {
      "text/plain": [
       "44.1061955479359"
      ]
     },
     "execution_count": 256,
     "metadata": {},
     "output_type": "execute_result"
    }
   ],
   "source": [
    "(0.025526161**2+0.02624064**2)**0.5/2/rp"
   ]
  },
  {
   "cell_type": "code",
   "execution_count": null,
   "metadata": {},
   "outputs": [],
   "source": [
    "-8*10^-"
   ]
  }
 ],
 "metadata": {
  "kernelspec": {
   "display_name": "Python 3",
   "language": "python",
   "name": "python3"
  },
  "language_info": {
   "codemirror_mode": {
    "name": "ipython",
    "version": 3
   },
   "file_extension": ".py",
   "mimetype": "text/x-python",
   "name": "python",
   "nbconvert_exporter": "python",
   "pygments_lexer": "ipython3",
   "version": "3.7.1"
  }
 },
 "nbformat": 4,
 "nbformat_minor": 2
}
